{
 "cells": [
  {
   "cell_type": "code",
   "execution_count": 1,
   "metadata": {},
   "outputs": [],
   "source": [
    "import networkx as nx"
   ]
  },
  {
   "cell_type": "code",
   "execution_count": 2,
   "metadata": {},
   "outputs": [],
   "source": [
    "# 関数定義\n",
    "def my_extract_min(D, X):\n",
    "\n",
    "    # arg_minを-1、min_valueを∞で初期化\n",
    "    arg_min = -1\n",
    "    min_value = float('inf')\n",
    "    \n",
    "    # Dの長さだけ繰り返す。\n",
    "    for i in range(len(D)):\n",
    "\n",
    "        # D[i]の値がmin_valueより小さく、\n",
    "        if D[i] < min_value:\n",
    "            # xの中に含まれるとき\n",
    "            if i in X:\n",
    "\n",
    "                # min_valueを更新し、arg_minを配列番号をに代入。\n",
    "                arg_min = i\n",
    "                min_value = D[i]\n",
    "    # Xの中に存在し、Dの中で最小のindex番号を返す。\n",
    "    return arg_min\n",
    "\n",
    "# 関数定義\n",
    "def My_Prim(G:nx.classes.graph.Graph, s):\n",
    "\n",
    "    # Aを空集合\n",
    "    A = set()\n",
    "\n",
    "    # XをGの点集合\n",
    "    X = set(G.nodes)\n",
    "\n",
    "    # Dの中身を∞で初期化\n",
    "    D = [float(\"inf\")] * nx.number_of_nodes(G)\n",
    "\n",
    "    # D[s]を0にする\n",
    "    D[s] = 0\n",
    "\n",
    "    # πを -1で初期化。\n",
    "    pi=[-1] * nx.number_of_nodes(G)\n",
    "    \n",
    "    # xの中身が存在する間\n",
    "    while X:\n",
    "\n",
    "        # xの中で最小の点uを取得。\n",
    "        u = my_extract_min(D,X)\n",
    "\n",
    "        # 点uをxの中から取り除く\n",
    "        X.remove(u)\n",
    "\n",
    "        # uがs以外のとき、Aに辺(π[u], u)を加える\n",
    "        if  u != s:\n",
    "            A.add((pi[u], u))\n",
    "\n",
    "        # 点uの隣接点をvに一つずつ取り出す。\n",
    "        for v in G.neighbors(u):\n",
    "\n",
    "            # 隣接点がxの中にないときは、次の隣接点へ。\n",
    "            if not v in X:\n",
    "                continue\n",
    "\n",
    "            # 辺(u, v)の値がD[v]より小さいとき、\n",
    "            if D[v] > G.edges[u, v]['weight']:\n",
    "\n",
    "                # D[v]の値を辺(v, u)の値に変更\n",
    "                D[v] = G.edges[u, v]['weight']\n",
    "\n",
    "                # vに、どの隣接点から来たかを記録。\n",
    "                pi[v] = u\n",
    "    # Aを返す。\n",
    "    return A"
   ]
  },
  {
   "cell_type": "code",
   "execution_count": 3,
   "metadata": {},
   "outputs": [
    {
     "name": "stdout",
     "output_type": "stream",
     "text": [
      "(0, 1)\n",
      "(1, 2)\n",
      "(3, 4)\n",
      "(2, 3)\n",
      "(6, 7)\n",
      "(5, 6)\n",
      "(2, 5)\n",
      "(2, 8)\n"
     ]
    }
   ],
   "source": [
    "G=nx.read_weighted_edgelist(\"dij.edgelist\", nodetype=int)\n",
    "\n",
    "A = My_Prim(G, 0)\n",
    "\n",
    "for s in A:\n",
    "    print(s)"
   ]
  },
  {
   "cell_type": "code",
   "execution_count": null,
   "metadata": {},
   "outputs": [],
   "source": []
  }
 ],
 "metadata": {
  "kernelspec": {
   "display_name": "venv",
   "language": "python",
   "name": "python3"
  },
  "language_info": {
   "codemirror_mode": {
    "name": "ipython",
    "version": 3
   },
   "file_extension": ".py",
   "mimetype": "text/x-python",
   "name": "python",
   "nbconvert_exporter": "python",
   "pygments_lexer": "ipython3",
   "version": "3.11.9"
  }
 },
 "nbformat": 4,
 "nbformat_minor": 2
}
