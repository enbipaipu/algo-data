{
 "cells": [
  {
   "cell_type": "markdown",
   "metadata": {},
   "source": [
    "| v | D[v] | π[v] |\n",
    "|:-:|:-:|:-:|\n",
    "|1|0|-|\n",
    "|2|4|1|\n",
    "|3|8|2|\n",
    "|4|7|3|\n",
    "|5|9|4|\n",
    "|6|4|3|\n",
    "|7|6|9|\n",
    "|8|1|7|\n",
    "|9|2|3|"
   ]
  },
  {
   "cell_type": "markdown",
   "metadata": {},
   "source": [
    "(1, 2)\n",
    "(5, 4)\n",
    "(2, 3)\n",
    "(1, 7)\n",
    "(7, 6)\n",
    "(1, 0)\n",
    "(2, 5)\n",
    "(2, 8)"
   ]
  }
 ],
 "metadata": {
  "language_info": {
   "name": "python"
  }
 },
 "nbformat": 4,
 "nbformat_minor": 2
}
