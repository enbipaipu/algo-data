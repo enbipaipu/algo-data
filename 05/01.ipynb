{
 "cells": [
  {
   "cell_type": "markdown",
   "metadata": {},
   "source": [
    "## アルゴリズム設計と貪欲法"
   ]
  },
  {
   "cell_type": "markdown",
   "metadata": {},
   "source": [
    "(7, 8), (6, 7), (3, 9), (1, 2), (3, 6), (3, 4), (2, 3), (4, 5)"
   ]
  }
 ],
 "metadata": {
  "language_info": {
   "name": "python"
  }
 },
 "nbformat": 4,
 "nbformat_minor": 2
}
