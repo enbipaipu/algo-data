{
 "cells": [
  {
   "cell_type": "code",
   "execution_count": 1,
   "metadata": {},
   "outputs": [],
   "source": [
    "# ライブラリのインポート\n",
    "import networkx as nx"
   ]
  },
  {
   "cell_type": "markdown",
   "metadata": {},
   "source": [
    "### 次数を求める関数"
   ]
  },
  {
   "cell_type": "code",
   "execution_count": 2,
   "metadata": {},
   "outputs": [
    {
     "name": "stdout",
     "output_type": "stream",
     "text": [
      "2\n",
      "[(0, 2), (1, 3), (7, 4), (2, 4), (3, 3), (5, 4), (8, 3), (4, 2), (6, 3)]\n",
      "0\n",
      "1\n",
      "7\n",
      "2\n",
      "3\n",
      "5\n",
      "8\n",
      "4\n",
      "6\n",
      "[True, False, True, True, False, True, False, True, False]\n"
     ]
    }
   ],
   "source": [
    "# load the data of a graph\n",
    "G = nx.read_edgelist(\"test.edgelist.xlsx\", nodetype=int)\n",
    "\n",
    "# display the degree of vertex 0\n",
    "print(G.degree[0])\n",
    "\n",
    "# display the degree of every vertex\n",
    "print(G.degree)\n",
    "\n",
    "# for each vertex do something\n",
    "for v in G.nodes():\n",
    "    print(v)\n",
    "\n",
    "\n",
    "numberOfEdges = [x[1]%2==0 for x in G.degree]\n",
    "\n",
    "print(numberOfEdges)"
   ]
  },
  {
   "cell_type": "markdown",
   "metadata": {},
   "source": [
    "### オイラー閉路の判定\n",
    "下の二つの関数はどちらも同じことをしています。"
   ]
  },
  {
   "cell_type": "code",
   "execution_count": 3,
   "metadata": {},
   "outputs": [],
   "source": [
    "def is_EulerCycle(G) -> bool:\n",
    "    return all([x[1]%2==0 for x in G.degree])"
   ]
  },
  {
   "cell_type": "code",
   "execution_count": 4,
   "metadata": {},
   "outputs": [],
   "source": [
    "# オイラー閉路に対しての真偽値を返す関数を定義\n",
    "def is_eulerCycle(G) -> bool:\n",
    "\n",
    "    # ある点の次数が偶数かどうかの真偽値を格納するlistを定義\n",
    "    is_evenNumbers = []\n",
    "\n",
    "    # degreeを実行して、得られた（点の名前、次数）をsに一つずつ代入\n",
    "    for s in G.degree:\n",
    "\n",
    "        # sは(点の名前、次数)となっているので、s[1]として次数のみを取り出す。\n",
    "        # 次数 % 2をして偶数かどうかの真偽値をis_evenNumbersに追加\n",
    "        is_evenNumbers.append(s[1] % 2 == 0)\n",
    "        \n",
    "    # all関数を使用して、is_evenNumbersの中身がすべてTrueかどうかを判定\n",
    "    return all(is_evenNumbers)"
   ]
  },
  {
   "cell_type": "code",
   "execution_count": 5,
   "metadata": {},
   "outputs": [
    {
     "name": "stdout",
     "output_type": "stream",
     "text": [
      "False\n"
     ]
    }
   ],
   "source": [
    "print(is_eulerCycle(G))"
   ]
  },
  {
   "cell_type": "code",
   "execution_count": 6,
   "metadata": {},
   "outputs": [
    {
     "name": "stdout",
     "output_type": "stream",
     "text": [
      "True\n"
     ]
    }
   ],
   "source": [
    "G2 = nx.read_edgelist(\"test.edgelist2.xlsx\", nodetype=int)\n",
    "print(is_eulerCycle(G2))"
   ]
  },
  {
   "cell_type": "code",
   "execution_count": 7,
   "metadata": {},
   "outputs": [
    {
     "name": "stdout",
     "output_type": "stream",
     "text": [
      "True\n"
     ]
    }
   ],
   "source": [
    "G3 = nx.read_edgelist(\"test.edgelist3.xlsx\", nodetype=int)\n",
    "print(is_EulerCycle(G3))"
   ]
  },
  {
   "cell_type": "code",
   "execution_count": null,
   "metadata": {},
   "outputs": [],
   "source": []
  }
 ],
 "metadata": {
  "kernelspec": {
   "display_name": "venv",
   "language": "python",
   "name": "python3"
  },
  "language_info": {
   "codemirror_mode": {
    "name": "ipython",
    "version": 3
   },
   "file_extension": ".py",
   "mimetype": "text/x-python",
   "name": "python",
   "nbconvert_exporter": "python",
   "pygments_lexer": "ipython3",
   "version": "3.11.9"
  }
 },
 "nbformat": 4,
 "nbformat_minor": 2
}
