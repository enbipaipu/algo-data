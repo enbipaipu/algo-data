{
 "cells": [
  {
   "cell_type": "markdown",
   "metadata": {},
   "source": [
    "#### 課題8-1"
   ]
  },
  {
   "cell_type": "markdown",
   "metadata": {},
   "source": [
    "|各点|初期値|1回目|2回目|\n",
    "|:-:|:-:|:-:|:-:|\n",
    "|1|1/5|1/10|1/20|\n",
    "|2|1/5|1/10|4/20 = 1/5|\n",
    "|3|1/5|1/10 + 1/5 + 1/10 = 4/10|1/20 + 4/20 + 2/20 = 7/20|\n",
    "|4|1/5|1/10 + 1/10 = 2/10|1/20 + 2/20 = 3/20|\n",
    "|5|1/5|1/10 + 1/10 = 2/10|1/20 + 4/20 = 5/20 = 1/4|\n"
   ]
  },
  {
   "cell_type": "markdown",
   "metadata": {},
   "source": []
  }
 ],
 "metadata": {
  "kernelspec": {
   "display_name": "venv",
   "language": "python",
   "name": "python3"
  },
  "language_info": {
   "name": "python",
   "version": "3.11.9"
  }
 },
 "nbformat": 4,
 "nbformat_minor": 2
}
