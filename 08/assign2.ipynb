{
 "cells": [
  {
   "cell_type": "code",
   "execution_count": 19,
   "metadata": {},
   "outputs": [],
   "source": [
    "import networkx as nx\n",
    "import numpy as np\n",
    "import scipy as sp\n",
    "import matplotlib.pyplot as plt"
   ]
  },
  {
   "cell_type": "code",
   "execution_count": 2,
   "metadata": {},
   "outputs": [],
   "source": [
    "def make_A(G:nx.classes.digraph.DiGraph):\n",
    "    \n",
    "    #点の個数を取得\n",
    "    n = nx.number_of_nodes(G)\n",
    "\n",
    "    #Aの行列を作成\n",
    "    A = nx.to_numpy_array(G, nodelist=range(n), weight=None)\n",
    "\n",
    "    #行列の転置\n",
    "    A = A.transpose()\n",
    "\n",
    "    #各列の和を取る\n",
    "    clos_sum = A.sum(axis=0)\n",
    "\n",
    "    # n回for分を回す。\n",
    "    for s in range(n):\n",
    "\n",
    "        # s列の和が0のとき、\n",
    "        if clos_sum[s] == 0:\n",
    "\n",
    "            # s列の要素をすべて1/nにする\n",
    "            A[:, s] = 1/n\n",
    "            continue\n",
    "\n",
    "        # s列の和が0ではないとき、各列の値の和(clos_sum)で正規化する\n",
    "        A[:,s] = A[:,s] / clos_sum[s]\n",
    "\n",
    "    return A"
   ]
  },
  {
   "cell_type": "code",
   "execution_count": 3,
   "metadata": {},
   "outputs": [
    {
     "name": "stdout",
     "output_type": "stream",
     "text": [
      "[[0.         0.         0.         0.         0.         0.\n",
      "  0.         0.         0.         0.         0.08333333 0.08333333]\n",
      " [0.         0.         0.         0.         0.         0.\n",
      "  0.         0.         0.         0.         0.08333333 0.08333333]\n",
      " [0.         0.         0.         0.         0.         0.\n",
      "  0.         0.         0.         0.         0.08333333 0.08333333]\n",
      " [0.33333333 0.         0.         0.         0.         0.\n",
      "  0.         0.         0.         0.         0.08333333 0.08333333]\n",
      " [0.         0.5        0.         1.         0.         0.\n",
      "  0.         0.         0.         0.         0.08333333 0.08333333]\n",
      " [0.33333333 0.         0.         0.         1.         0.\n",
      "  0.         0.         0.         0.         0.08333333 0.08333333]\n",
      " [0.         0.5        0.         0.         0.         0.5\n",
      "  0.         0.         0.         0.         0.08333333 0.08333333]\n",
      " [0.33333333 0.         0.         0.         0.         0.\n",
      "  0.         0.         0.         0.         0.08333333 0.08333333]\n",
      " [0.         0.         0.33333333 0.         0.         0.5\n",
      "  0.         0.5        0.         0.         0.08333333 0.08333333]\n",
      " [0.         0.         0.         0.         0.         0.\n",
      "  1.         0.         1.         0.         0.08333333 0.08333333]\n",
      " [0.         0.         0.33333333 0.         0.         0.\n",
      "  0.         0.5        0.         0.         0.08333333 0.08333333]\n",
      " [0.         0.         0.33333333 0.         0.         0.\n",
      "  0.         0.         0.         1.         0.08333333 0.08333333]]\n"
     ]
    }
   ],
   "source": [
    "G = nx.read_edgelist(\"pr.edgelist\", create_using=nx.DiGraph(), nodetype=int)\n",
    "\n",
    "A = make_A(G)\n",
    "print(A)\n"
   ]
  },
  {
   "cell_type": "markdown",
   "metadata": {},
   "source": [
    "## (2)"
   ]
  },
  {
   "cell_type": "code",
   "execution_count": 8,
   "metadata": {},
   "outputs": [],
   "source": [
    "def update(G, v, d, k):\n",
    "\n",
    "    # Aを作成する\n",
    "    A = make_A(G)\n",
    "\n",
    "    # Gの点の数を取得\n",
    "    n = nx.number_of_nodes(G)\n",
    "\n",
    "    # n行n列で値が1/nの行列Jを作成\n",
    "    J = np.ones((n, n))/n\n",
    "\n",
    "    # Mgを作成\n",
    "    Mg = d * A + (1-d)*J\n",
    "    \n",
    "    # K回、行列Mgと重要度ベクトルvの積を取る\n",
    "    for _ in range(k):\n",
    "        v = Mg @ v\n",
    "\n",
    "    return v\n"
   ]
  },
  {
   "cell_type": "code",
   "execution_count": 39,
   "metadata": {},
   "outputs": [
    {
     "name": "stdout",
     "output_type": "stream",
     "text": [
      "[[0.0307301 ]\n",
      " [0.0307301 ]\n",
      " [0.0307301 ]\n",
      " [0.03957539]\n",
      " [0.07744817]\n",
      " [0.10271449]\n",
      " [0.08555956]\n",
      " [0.03957539]\n",
      " [0.09786197]\n",
      " [0.18825917]\n",
      " [0.05630046]\n",
      " [0.22051509]]\n"
     ]
    }
   ],
   "source": [
    "G = nx.read_edgelist(\"pr.edgelist\", create_using=nx.DiGraph(), nodetype=int)\n",
    "\n",
    "n = nx.number_of_nodes(G)\n",
    "v = np.ones((n, 1))/n\n",
    "\n",
    "d = 0.85\n",
    "\n",
    "k = 5\n",
    "\n",
    "y = update(G, v, d, k)\n",
    "\n",
    "print(y)"
   ]
  },
  {
   "cell_type": "code",
   "execution_count": 48,
   "metadata": {},
   "outputs": [],
   "source": [
    "G = nx.read_edgelist(\"pr.edgelist\", create_using=nx.DiGraph(), nodetype=int)\n",
    "\n",
    "n = nx.number_of_nodes(G)\n",
    "v = np.ones((n, 1))/n\n",
    "\n",
    "d = 0.85\n",
    "\n",
    "K = 23\n",
    "\n",
    "diff_results = []\n",
    "\n",
    "pr = nx.pagerank(G, alpha=d)\n",
    "\n",
    "pr_result = np.array([pr[s] for s in range(n)])\n",
    "\n",
    "for k in range(1, K+1):\n",
    "\n",
    "    y = update(G, v, d, k)\n",
    "\n",
    "    y_result =np.array([s[0] for s in y])\n",
    "\n",
    "    diff = sum(np.abs(pr_result - y_result))\n",
    "\n",
    "    diff_results.append(diff)"
   ]
  },
  {
   "cell_type": "code",
   "execution_count": 49,
   "metadata": {},
   "outputs": [
    {
     "data": {
      "image/png": "[encoded data removed]",
      "text/plain": [
       "<Figure size 640x480 with 1 Axes>"
      ]
     },
     "metadata": {},
     "output_type": "display_data"
    }
   ],
   "source": [
    "x = [s for s in range(1, K+1)]\n",
    "\n",
    "plt.plot(x, diff_results)\n",
    "\n",
    "plt.show()"
   ]
  },
  {
   "cell_type": "code",
   "execution_count": 53,
   "metadata": {},
   "outputs": [
    {
     "name": "stdout",
     "output_type": "stream",
     "text": [
      "[0.26393899764424444, 0.11476898945170641, 0.06580071154905417, 0.04137521404658065, 0.03349076516939928, 0.01698978035215544, 0.010126542182928178, 0.004783235368722005, 0.0027909235277516938, 0.0013821347493185483, 0.0009012974024523376, 0.0005706692904859714, 0.00030174692358783325, 0.00014939801754267415, 9.805586029991431e-05, 4.6473429183929715e-05, 2.8045158016881677e-05, 2.3373844345364603e-05, 9.656930138622621e-06, 8.326672684688674e-16, 5.36050116526493e-06, 6.212285048743521e-06, 6.405374052068091e-06]\n",
      "1 :  0.263938997644244\n",
      "2 :  0.114768989451706\n",
      "3 :  0.065800711549054\n",
      "4 :  0.041375214046581\n",
      "5 :  0.033490765169399\n",
      "6 :  0.016989780352155\n",
      "7 :  0.010126542182928\n",
      "8 :  0.004783235368722\n",
      "9 :  0.002790923527752\n",
      "10 :  0.001382134749319\n",
      "11 :  0.000901297402452\n",
      "12 :  0.000570669290486\n",
      "13 :  0.000301746923588\n",
      "14 :  0.000149398017543\n",
      "15 :  0.000098055860300\n",
      "16 :  0.000046473429184\n",
      "17 :  0.000028045158017\n",
      "18 :  0.000023373844345\n",
      "19 :  0.000009656930139\n",
      "20 :  0.000000000000001\n",
      "21 :  0.000005360501165\n",
      "22 :  0.000006212285049\n"
     ]
    }
   ],
   "source": [
    "print(diff_results)\n",
    "\n",
    "for s in range(1, 23):\n",
    "    print(s, \": \", \"{:.15f}\".format(diff_results[s-1]))\n"
   ]
  },
  {
   "cell_type": "code",
   "execution_count": null,
   "metadata": {},
   "outputs": [],
   "source": []
  }
 ],
 "metadata": {
  "kernelspec": {
   "display_name": "venv",
   "language": "python",
   "name": "python3"
  },
  "language_info": {
   "codemirror_mode": {
    "name": "ipython",
    "version": 3
   },
   "file_extension": ".py",
   "mimetype": "text/x-python",
   "name": "python",
   "nbconvert_exporter": "python",
   "pygments_lexer": "ipython3",
   "version": "3.9.15"
  }
 },
 "nbformat": 4,
 "nbformat_minor": 2
}
