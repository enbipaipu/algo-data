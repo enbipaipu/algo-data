{
 "cells": [
  {
   "cell_type": "code",
   "execution_count": 1,
   "metadata": {},
   "outputs": [],
   "source": [
    "import heapq\n",
    "import networkx as nx"
   ]
  },
  {
   "cell_type": "code",
   "execution_count": 2,
   "metadata": {},
   "outputs": [
    {
     "name": "stdout",
     "output_type": "stream",
     "text": [
      "3 2\n"
     ]
    }
   ],
   "source": [
    "# 空のヒープを作成\n",
    "Q = []\n",
    "\n",
    "# (value, index)タプル型を代入\n",
    "heapq.heappush(Q, (5, 1))\n",
    "heapq.heappush(Q, (3, 2))\n",
    "\n",
    "# 最小のエレメントを取得\n",
    "min_value, argmin_index=heapq.heappop(Q)\n",
    "\n",
    "print(min_value, argmin_index)"
   ]
  },
  {
   "cell_type": "code",
   "execution_count": null,
   "metadata": {},
   "outputs": [],
   "source": [
    "def my_Dijkstra(G, s):\n",
    "    \n",
    "    X = set(G.nodes)\n",
    "\n",
    "    Q=[]\n",
    "    for x in range(nx.number_of_nodes(G)):\n",
    "        heapq.heappush(Q, (float('inf'), x))\n",
    "    heapq.heappush(Q, (0, s))\n",
    "    \n",
    "    while X:\n",
    "        min_value, argmin_index=heapq.heappop(Q)\n",
    "        \n",
    "        if not argmin_index in X:\n",
    "            continue\n",
    "\n",
    "        X.remove(argmin_index)\n",
    "        for v in G.neighbors(argmin_index):\n",
    "            if v in X:\n",
    "                #隣接点の値を変更する\n",
    "                new_distance = min_value + G.edges[argmin_index, v]['weight']\n",
    "                if D[v] > new_distance:\n",
    "                    D[v] = new_distance\n",
    "    return Q"
   ]
  }
 ],
 "metadata": {
  "kernelspec": {
   "display_name": "venv",
   "language": "python",
   "name": "python3"
  },
  "language_info": {
   "codemirror_mode": {
    "name": "ipython",
    "version": 3
   },
   "file_extension": ".py",
   "mimetype": "text/x-python",
   "name": "python",
   "nbconvert_exporter": "python",
   "pygments_lexer": "ipython3",
   "version": "3.11.9"
  }
 },
 "nbformat": 4,
 "nbformat_minor": 2
}
