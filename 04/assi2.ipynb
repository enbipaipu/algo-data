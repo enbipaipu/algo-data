{
 "cells": [
  {
   "cell_type": "code",
   "execution_count": 11,
   "metadata": {},
   "outputs": [],
   "source": [
    "import heapq\n",
    "import networkx as nx\n",
    "import timeit\n",
    "import random"
   ]
  },
  {
   "cell_type": "code",
   "execution_count": 12,
   "metadata": {},
   "outputs": [
    {
     "name": "stdout",
     "output_type": "stream",
     "text": [
      "3 2\n"
     ]
    }
   ],
   "source": [
    "# 空のヒープを作成\n",
    "H = []\n",
    "\n",
    "# (value, index)タプル型を代入\n",
    "heapq.heappush(H, (5, 1))\n",
    "heapq.heappush(H, (3, 2))\n",
    "\n",
    "# 最小のエレメントを取得\n",
    "min_value, argmin_index=heapq.heappop(H)\n",
    "\n",
    "print(min_value, argmin_index)"
   ]
  },
  {
   "cell_type": "code",
   "execution_count": 1,
   "metadata": {},
   "outputs": [],
   "source": [
    "#関数定義\n",
    "def my_Dijkstra(G, s):\n",
    "\n",
    "    #空のヒープHを作成して、始点の値を0にする。\n",
    "    H=[]\n",
    "    heapq.heappush(H, (0, s))\n",
    "\n",
    "    #XをGの点集合、D[s]=0,s以外の点VについてはD[v]=∞とする\n",
    "    X = set(G.nodes)\n",
    "    D = [float('inf')] * nx.number_of_nodes(G)\n",
    "\n",
    "    #Xが空でない間、以下を繰り返す。\n",
    "    while X:\n",
    "        \n",
    "        #Xの中でDが最小となる点argmin_indexとその値min_valueをHから取得\n",
    "        min_value, argmin_index=heapq.heappop(H)\n",
    "\n",
    "        #argmin_indexがXになければ、コンテニューする。\n",
    "        if not argmin_index in X:\n",
    "            continue\n",
    "\n",
    "        #Xからargmin_indexを取り除く\n",
    "        X.remove(argmin_index)\n",
    "\n",
    "        #最短経路が確定したので、Dに登録\n",
    "        D[argmin_index] = min_value\n",
    "\n",
    "        #argmin_indexの隣接点を一つずつ取り出す。\n",
    "        for v in G.neighbors(argmin_index):\n",
    "\n",
    "            #隣接点がXの中に含まれている場合、以下を行う。\n",
    "            if v in X:\n",
    "\n",
    "                #現在の点の値と 隣接点との辺の値の和を取得。\n",
    "                new_distance = min_value + G.edges[argmin_index, v]['weight']\n",
    "\n",
    "                #Dに入っている値がnew_distance未満であれば、値を更新する。\n",
    "                if D[v] > new_distance:\n",
    "                    heapq.heappush(H, (new_distance, v))\n",
    "\n",
    "    #Dを返す。            \n",
    "    return D"
   ]
  },
  {
   "cell_type": "code",
   "execution_count": 16,
   "metadata": {},
   "outputs": [
    {
     "name": "stdout",
     "output_type": "stream",
     "text": [
      "0.014824919999227859\n",
      "0.06469907000137028\n",
      "0.13206165000010514\n",
      "0.19700385000032838\n",
      "0.31166948000027334\n",
      "0.40812212000018916\n",
      "0.498682999999437\n",
      "0.703863110000384\n",
      "0.8651322299992898\n",
      "1.132434400000784\n"
     ]
    }
   ],
   "source": [
    "# nに1000から10000までの値を1000刻みで代入\n",
    "for n in range(1000, 10001, 1000):\n",
    "    #データの読み込み\n",
    "    G=nx.read_weighted_edgelist(f\"random_{n}.edgelist\", nodetype=int)\n",
    "\n",
    "    #実行時間を測定\n",
    "    num = 10 \n",
    "    total_time=timeit.timeit('my_Dijkstra(G,0)', globals=globals(), number=num)\n",
    "\n",
    "    average_time=total_time/num\n",
    "    print(average_time)"
   ]
  },
  {
   "cell_type": "code",
   "execution_count": 17,
   "metadata": {},
   "outputs": [],
   "source": [
    "def my_extract_min(D, X):\n",
    "    arg_min = -1\n",
    "    min_value = float('inf')\n",
    "    \n",
    "    for i in range(len(D)):\n",
    "        if D[i] < min_value:\n",
    "            if i in X:\n",
    "                arg_min = i\n",
    "                min_value = D[i]\n",
    "    \n",
    "    return arg_min\n",
    "\n",
    "def my_Dijkstra2(G, s):\n",
    "    X = set(G.nodes)\n",
    "    D = [float('inf')] * nx.number_of_nodes(G)\n",
    "    D[s] = 0\n",
    "    \n",
    "    while X:\n",
    "        u = my_extract_min(D, X)\n",
    "        X.remove(u)\n",
    "        for v in G.neighbors(u):\n",
    "            if v in X:\n",
    "                new_distance = D[u] + G.edges[u, v]['weight']\n",
    "                if D[v] > new_distance:\n",
    "                    D[v] = new_distance\n",
    "    return D"
   ]
  },
  {
   "cell_type": "code",
   "execution_count": 19,
   "metadata": {},
   "outputs": [
    {
     "name": "stdout",
     "output_type": "stream",
     "text": [
      "[0, 77.0, 67.0, 83.0, 76.0, 63.0, 76.0, 108.0, 77.0, 68.0, 46.0, 98.0, 69.0, 45.0, 54.0, 81.0, 86.0, 71.0, 62.0, 66.0, 87.0, 82.0, 47.0, 73.0, 78.0, 109.0, 58.0, 62.0, 125.0, 76.0, 93.0, 55.0, 80.0, 78.0, 71.0, 73.0, 64.0, 66.0, 83.0, 40.0, 86.0, 44.0, 62.0, 92.0, 59.0, 77.0, 80.0, 71.0, 99.0, 54.0, 93.0, 43.0, 46.0, 87.0, 78.0, 66.0, 69.0, 69.0, 74.0, 77.0, 44.0, 73.0, 51.0, 96.0, 78.0, 80.0, 62.0, 45.0, 73.0, 86.0, 69.0, 83.0, 68.0, 13.0, 80.0, 67.0, 115.0, 68.0, 75.0, 55.0, 82.0, 93.0, 61.0, 47.0, 67.0, 88.0, 70.0, 78.0, 57.0, 58.0, 83.0, 103.0, 56.0, 66.0, 64.0, 74.0, 63.0, 72.0, 77.0, 76.0, 77.0, 66.0, 82.0, 89.0, 54.0, 38.0, 51.0, 40.0, 65.0, 73.0, 66.0, 77.0, 72.0, 84.0, 95.0, 88.0, 80.0, 96.0, 39.0, 50.0, 56.0, 39.0, 61.0, 73.0, 65.0, 80.0, 90.0, 98.0, 86.0, 107.0, 71.0, 66.0, 79.0, 69.0, 68.0, 73.0, 94.0, 82.0, 57.0, 47.0, 44.0, 45.0, 75.0, 78.0, 77.0, 73.0, 88.0, 78.0, 89.0, 82.0, 68.0, 70.0, 65.0, 60.0, 94.0, 67.0, 44.0, 67.0, 97.0, 78.0, 87.0, 76.0, 38.0, 96.0, 86.0, 71.0, 81.0, 63.0, 73.0, 56.0, 80.0, 71.0, 66.0, 69.0, 83.0, 94.0, 71.0, 79.0, 79.0, 78.0, 88.0, 64.0, 80.0, 134.0, 71.0, 90.0, 47.0, 45.0, 83.0, 77.0, 98.0, 81.0, 64.0, 76.0, 71.0, 77.0, 53.0, 74.0, 62.0, 102.0, 67.0, 94.0, 68.0, 85.0, 82.0, 82.0, 50.0, 63.0, 84.0, 73.0, 86.0, 82.0, 91.0, 76.0, 18.0, 63.0, 51.0, 58.0, 72.0, 62.0, 55.0, 93.0, 88.0, 56.0, 62.0, 74.0, 53.0, 82.0, 80.0, 75.0, 84.0, 76.0, 79.0, 66.0, 59.0, 96.0, 83.0, 86.0, 96.0, 48.0, 74.0, 86.0, 68.0, 63.0, 88.0, 59.0, 94.0, 57.0, 69.0, 73.0, 84.0, 79.0, 78.0, 92.0, 39.0, 22.0, 65.0, 84.0, 59.0, 70.0, 47.0, 87.0, 93.0, 78.0, 46.0, 75.0, 87.0, 112.0, 81.0, 70.0, 91.0, 66.0, 75.0, 43.0, 80.0, 80.0, 57.0, 94.0, 121.0, 75.0, 75.0, 57.0, 68.0, 93.0, 71.0, 62.0, 92.0, 67.0, 88.0, 65.0, 55.0, 68.0, 59.0, 66.0, 70.0, 53.0, 46.0, 83.0, 62.0, 58.0, 55.0, 49.0, 43.0, 95.0, 67.0, 76.0, 70.0, 94.0, 84.0, 74.0, 60.0, 85.0, 64.0, 92.0, 77.0, 63.0, 79.0, 67.0, 77.0, 56.0, 77.0, 67.0, 92.0, 64.0, 64.0, 58.0, 61.0, 71.0, 96.0, 82.0, 95.0, 82.0, 74.0, 83.0, 62.0, 91.0, 80.0, 53.0, 87.0, 83.0, 89.0, 62.0, 105.0, 56.0, 106.0, 62.0, 68.0, 69.0, 87.0, 95.0, 77.0, 102.0, 63.0, 22.0, 82.0, 93.0, 70.0, 48.0, 69.0, 108.0, 87.0, 88.0, 65.0, 74.0, 54.0, 65.0, 74.0, 75.0, 74.0, 33.0, 105.0, 64.0, 60.0, 75.0, 52.0, 84.0, 102.0, 104.0, 111.0, 80.0, 50.0, 65.0, 68.0, 80.0, 83.0, 57.0, 57.0, 51.0, 75.0, 93.0, 60.0, 64.0, 65.0, 54.0, 76.0, 63.0, 81.0, 56.0, 52.0, 48.0, 48.0, 51.0, 61.0, 80.0, 69.0, 61.0, 88.0, 82.0, 99.0, 36.0, 77.0, 57.0, 92.0, 80.0, 39.0, 55.0, 93.0, 94.0, 21.0, 64.0, 51.0, 57.0, 76.0, 89.0, 89.0, 89.0, 66.0, 50.0, 52.0, 58.0, 83.0, 45.0, 74.0, 63.0, 39.0, 59.0, 112.0, 31.0, 86.0, 19.0, 105.0, 67.0, 101.0, 71.0, 55.0, 67.0, 77.0, 72.0, 74.0, 83.0, 86.0, 42.0, 51.0, 68.0, 27.0, 62.0, 58.0, 88.0, 63.0, 74.0, 60.0, 60.0, 68.0, 57.0, 49.0, 53.0, 58.0, 73.0, 69.0, 115.0, 79.0, 60.0, 101.0, 69.0, 57.0, 80.0, 82.0, 59.0, 83.0, 74.0, 73.0, 68.0, 54.0, 61.0, 69.0, 71.0, 69.0, 121.0, 58.0, 102.0, 62.0, 32.0, 72.0, 76.0, 80.0, 53.0, 67.0, 94.0, 90.0, 103.0, 60.0, 44.0, 82.0, 70.0, 83.0, 76.0, 91.0, 53.0, 67.0, 84.0, 54.0, 45.0, 58.0, 71.0, 74.0, 51.0, 65.0, 69.0, 90.0, 70.0, 83.0, 78.0, 70.0, 97.0, 72.0, 58.0, 76.0, 78.0, 76.0, 50.0, 62.0, 62.0, 81.0, 43.0, 49.0, 73.0, 105.0, 89.0, 44.0, 82.0, 43.0, 37.0, 83.0, 50.0, 58.0, 60.0, 47.0, 82.0, 60.0, 60.0, 44.0, 65.0, 100.0, 62.0, 67.0, 73.0, 72.0, 51.0, 77.0, 75.0, 33.0, 104.0, 76.0, 80.0, 79.0, 102.0, 103.0, 79.0, 77.0, 72.0, 87.0, 97.0, 71.0, 61.0, 76.0, 49.0, 54.0, 77.0, 69.0, 69.0, 68.0, 75.0, 74.0, 69.0, 41.0, 94.0, 72.0, 54.0, 75.0, 49.0, 106.0, 39.0, 59.0, 129.0, 68.0, 83.0, 87.0, 98.0, 73.0, 56.0, 60.0, 72.0, 79.0, 60.0, 69.0, 57.0, 61.0, 53.0, 68.0, 66.0, 92.0, 75.0, 45.0, 40.0, 65.0, 68.0, 58.0, 72.0, 99.0, 92.0, 58.0, 59.0, 53.0, 76.0, 75.0, 85.0, 88.0, 68.0, 66.0, 87.0, 39.0, 89.0, 63.0, 83.0, 50.0, 60.0, 61.0, 89.0, 75.0, 60.0, 72.0, 50.0, 55.0, 73.0, 85.0, 77.0, 71.0, 79.0, 86.0, 57.0, 88.0, 53.0, 78.0, 72.0, 55.0, 43.0, 94.0, 85.0, 80.0, 65.0, 58.0, 46.0, 45.0, 70.0, 41.0, 50.0, 45.0, 77.0, 84.0, 38.0, 70.0, 75.0, 82.0, 74.0, 90.0, 58.0, 45.0, 78.0, 70.0, 82.0, 45.0, 46.0, 63.0, 64.0, 79.0, 90.0, 92.0, 40.0, 69.0, 107.0, 67.0, 81.0, 100.0, 74.0, 84.0, 79.0, 80.0, 67.0, 76.0, 41.0, 92.0, 81.0, 98.0, 61.0, 95.0, 20.0, 70.0, 53.0, 57.0, 56.0, 95.0, 78.0, 75.0, 64.0, 79.0, 27.0, 110.0, 87.0, 89.0, 29.0, 71.0, 77.0, 85.0, 84.0, 67.0, 60.0, 75.0, 48.0, 69.0, 60.0, 67.0, 111.0, 83.0, 55.0, 72.0, 93.0, 79.0, 88.0, 82.0, 48.0, 95.0, 74.0, 93.0, 60.0, 72.0, 60.0, 73.0, 77.0, 64.0, 85.0, 89.0, 88.0, 81.0, 91.0, 87.0, 74.0, 116.0, 78.0, 68.0, 43.0, 70.0, 82.0, 50.0, 71.0, 68.0, 93.0, 67.0, 81.0, 94.0, 62.0, 60.0, 73.0, 61.0, 63.0, 57.0, 71.0, 73.0, 68.0, 81.0, 78.0, 42.0, 76.0, 64.0, 59.0, 52.0, 97.0, 91.0, 57.0, 68.0, 76.0, 69.0, 81.0, 77.0, 26.0, 96.0, 78.0, 75.0, 84.0, 75.0, 63.0, 64.0, 60.0, 56.0, 76.0, 90.0, 65.0, 41.0, 58.0, 29.0, 56.0, 64.0, 68.0, 65.0, 86.0, 96.0, 92.0, 67.0, 82.0, 48.0, 82.0, 87.0, 89.0, 71.0, 26.0, 51.0, 58.0, 99.0, 62.0, 63.0, 78.0, 86.0, 88.0, 59.0, 86.0, 101.0, 82.0, 77.0, 71.0, 54.0, 94.0, 84.0, 81.0, 65.0, 49.0, 69.0, 60.0, 58.0, 92.0, 91.0, 65.0, 64.0, 78.0, 70.0, 73.0, 78.0, 45.0, 75.0, 76.0, 62.0, 113.0, 59.0, 77.0, 74.0, 71.0, 71.0, 74.0, 73.0, 82.0, 68.0, 77.0, 86.0, 71.0, 43.0, 96.0, 74.0, 91.0, 63.0, 56.0, 75.0, 94.0, 45.0, 69.0, 73.0, 81.0, 42.0, 75.0, 101.0, 74.0, 73.0, 67.0, 59.0, 74.0, 69.0, 54.0, 78.0, 57.0, 71.0, 61.0, 74.0, 50.0, 102.0, 97.0, 60.0, 34.0, 65.0, 126.0, 55.0, 75.0, 66.0, 78.0, 51.0, 89.0, 71.0, 92.0, 62.0, 69.0, 35.0, 77.0, 86.0, 52.0, 87.0, 70.0, 73.0, 50.0, 67.0, 71.0, 48.0, 75.0, 62.0, 97.0, 43.0, 89.0, 80.0, 92.0, 72.0, 42.0, 81.0, 56.0, 67.0, 84.0, 47.0, 62.0, 110.0, 61.0, 42.0, 47.0, 98.0, 84.0, 50.0, 66.0, 64.0, 86.0, 66.0, 58.0, 67.0, 74.0, 69.0, 79.0, 71.0, 77.0, 70.0, 88.0, 61.0, 57.0, 54.0, 79.0, 112.0, 56.0, 73.0, 58.0, 95.0, 56.0, 85.0, 90.0, 69.0, 101.0, 87.0, 61.0, 85.0, 80.0, 114.0, 71.0, 71.0, 133.0, 56.0, 73.0, 70.0, 41.0, 65.0, 92.0, 79.0, 82.0, 65.0, 50.0, 82.0, 66.0, 71.0, 81.0, 76.0, 50.0]\n",
      "[0, 77.0, 67.0, 83.0, 76.0, 63.0, 76.0, 108.0, 77.0, 68.0, 46.0, 98.0, 69.0, 45.0, 54.0, 81.0, 86.0, 71.0, 62.0, 66.0, 87.0, 82.0, 47.0, 73.0, 78.0, 109.0, 58.0, 62.0, 125.0, 76.0, 93.0, 55.0, 80.0, 78.0, 71.0, 73.0, 64.0, 66.0, 83.0, 40.0, 86.0, 44.0, 62.0, 92.0, 59.0, 77.0, 80.0, 71.0, 99.0, 54.0, 93.0, 43.0, 46.0, 87.0, 78.0, 66.0, 69.0, 69.0, 74.0, 77.0, 44.0, 73.0, 51.0, 96.0, 78.0, 80.0, 62.0, 45.0, 73.0, 86.0, 69.0, 83.0, 68.0, 13.0, 80.0, 67.0, 115.0, 68.0, 75.0, 55.0, 82.0, 93.0, 61.0, 47.0, 67.0, 88.0, 70.0, 78.0, 57.0, 58.0, 83.0, 103.0, 56.0, 66.0, 64.0, 74.0, 63.0, 72.0, 77.0, 76.0, 77.0, 66.0, 82.0, 89.0, 54.0, 38.0, 51.0, 40.0, 65.0, 73.0, 66.0, 77.0, 72.0, 84.0, 95.0, 88.0, 80.0, 96.0, 39.0, 50.0, 56.0, 39.0, 61.0, 73.0, 65.0, 80.0, 90.0, 98.0, 86.0, 107.0, 71.0, 66.0, 79.0, 69.0, 68.0, 73.0, 94.0, 82.0, 57.0, 47.0, 44.0, 45.0, 75.0, 78.0, 77.0, 73.0, 88.0, 78.0, 89.0, 82.0, 68.0, 70.0, 65.0, 60.0, 94.0, 67.0, 44.0, 67.0, 97.0, 78.0, 87.0, 76.0, 38.0, 96.0, 86.0, 71.0, 81.0, 63.0, 73.0, 56.0, 80.0, 71.0, 66.0, 69.0, 83.0, 94.0, 71.0, 79.0, 79.0, 78.0, 88.0, 64.0, 80.0, 134.0, 71.0, 90.0, 47.0, 45.0, 83.0, 77.0, 98.0, 81.0, 64.0, 76.0, 71.0, 77.0, 53.0, 74.0, 62.0, 102.0, 67.0, 94.0, 68.0, 85.0, 82.0, 82.0, 50.0, 63.0, 84.0, 73.0, 86.0, 82.0, 91.0, 76.0, 18.0, 63.0, 51.0, 58.0, 72.0, 62.0, 55.0, 93.0, 88.0, 56.0, 62.0, 74.0, 53.0, 82.0, 80.0, 75.0, 84.0, 76.0, 79.0, 66.0, 59.0, 96.0, 83.0, 86.0, 96.0, 48.0, 74.0, 86.0, 68.0, 63.0, 88.0, 59.0, 94.0, 57.0, 69.0, 73.0, 84.0, 79.0, 78.0, 92.0, 39.0, 22.0, 65.0, 84.0, 59.0, 70.0, 47.0, 87.0, 93.0, 78.0, 46.0, 75.0, 87.0, 112.0, 81.0, 70.0, 91.0, 66.0, 75.0, 43.0, 80.0, 80.0, 57.0, 94.0, 121.0, 75.0, 75.0, 57.0, 68.0, 93.0, 71.0, 62.0, 92.0, 67.0, 88.0, 65.0, 55.0, 68.0, 59.0, 66.0, 70.0, 53.0, 46.0, 83.0, 62.0, 58.0, 55.0, 49.0, 43.0, 95.0, 67.0, 76.0, 70.0, 94.0, 84.0, 74.0, 60.0, 85.0, 64.0, 92.0, 77.0, 63.0, 79.0, 67.0, 77.0, 56.0, 77.0, 67.0, 92.0, 64.0, 64.0, 58.0, 61.0, 71.0, 96.0, 82.0, 95.0, 82.0, 74.0, 83.0, 62.0, 91.0, 80.0, 53.0, 87.0, 83.0, 89.0, 62.0, 105.0, 56.0, 106.0, 62.0, 68.0, 69.0, 87.0, 95.0, 77.0, 102.0, 63.0, 22.0, 82.0, 93.0, 70.0, 48.0, 69.0, 108.0, 87.0, 88.0, 65.0, 74.0, 54.0, 65.0, 74.0, 75.0, 74.0, 33.0, 105.0, 64.0, 60.0, 75.0, 52.0, 84.0, 102.0, 104.0, 111.0, 80.0, 50.0, 65.0, 68.0, 80.0, 83.0, 57.0, 57.0, 51.0, 75.0, 93.0, 60.0, 64.0, 65.0, 54.0, 76.0, 63.0, 81.0, 56.0, 52.0, 48.0, 48.0, 51.0, 61.0, 80.0, 69.0, 61.0, 88.0, 82.0, 99.0, 36.0, 77.0, 57.0, 92.0, 80.0, 39.0, 55.0, 93.0, 94.0, 21.0, 64.0, 51.0, 57.0, 76.0, 89.0, 89.0, 89.0, 66.0, 50.0, 52.0, 58.0, 83.0, 45.0, 74.0, 63.0, 39.0, 59.0, 112.0, 31.0, 86.0, 19.0, 105.0, 67.0, 101.0, 71.0, 55.0, 67.0, 77.0, 72.0, 74.0, 83.0, 86.0, 42.0, 51.0, 68.0, 27.0, 62.0, 58.0, 88.0, 63.0, 74.0, 60.0, 60.0, 68.0, 57.0, 49.0, 53.0, 58.0, 73.0, 69.0, 115.0, 79.0, 60.0, 101.0, 69.0, 57.0, 80.0, 82.0, 59.0, 83.0, 74.0, 73.0, 68.0, 54.0, 61.0, 69.0, 71.0, 69.0, 121.0, 58.0, 102.0, 62.0, 32.0, 72.0, 76.0, 80.0, 53.0, 67.0, 94.0, 90.0, 103.0, 60.0, 44.0, 82.0, 70.0, 83.0, 76.0, 91.0, 53.0, 67.0, 84.0, 54.0, 45.0, 58.0, 71.0, 74.0, 51.0, 65.0, 69.0, 90.0, 70.0, 83.0, 78.0, 70.0, 97.0, 72.0, 58.0, 76.0, 78.0, 76.0, 50.0, 62.0, 62.0, 81.0, 43.0, 49.0, 73.0, 105.0, 89.0, 44.0, 82.0, 43.0, 37.0, 83.0, 50.0, 58.0, 60.0, 47.0, 82.0, 60.0, 60.0, 44.0, 65.0, 100.0, 62.0, 67.0, 73.0, 72.0, 51.0, 77.0, 75.0, 33.0, 104.0, 76.0, 80.0, 79.0, 102.0, 103.0, 79.0, 77.0, 72.0, 87.0, 97.0, 71.0, 61.0, 76.0, 49.0, 54.0, 77.0, 69.0, 69.0, 68.0, 75.0, 74.0, 69.0, 41.0, 94.0, 72.0, 54.0, 75.0, 49.0, 106.0, 39.0, 59.0, 129.0, 68.0, 83.0, 87.0, 98.0, 73.0, 56.0, 60.0, 72.0, 79.0, 60.0, 69.0, 57.0, 61.0, 53.0, 68.0, 66.0, 92.0, 75.0, 45.0, 40.0, 65.0, 68.0, 58.0, 72.0, 99.0, 92.0, 58.0, 59.0, 53.0, 76.0, 75.0, 85.0, 88.0, 68.0, 66.0, 87.0, 39.0, 89.0, 63.0, 83.0, 50.0, 60.0, 61.0, 89.0, 75.0, 60.0, 72.0, 50.0, 55.0, 73.0, 85.0, 77.0, 71.0, 79.0, 86.0, 57.0, 88.0, 53.0, 78.0, 72.0, 55.0, 43.0, 94.0, 85.0, 80.0, 65.0, 58.0, 46.0, 45.0, 70.0, 41.0, 50.0, 45.0, 77.0, 84.0, 38.0, 70.0, 75.0, 82.0, 74.0, 90.0, 58.0, 45.0, 78.0, 70.0, 82.0, 45.0, 46.0, 63.0, 64.0, 79.0, 90.0, 92.0, 40.0, 69.0, 107.0, 67.0, 81.0, 100.0, 74.0, 84.0, 79.0, 80.0, 67.0, 76.0, 41.0, 92.0, 81.0, 98.0, 61.0, 95.0, 20.0, 70.0, 53.0, 57.0, 56.0, 95.0, 78.0, 75.0, 64.0, 79.0, 27.0, 110.0, 87.0, 89.0, 29.0, 71.0, 77.0, 85.0, 84.0, 67.0, 60.0, 75.0, 48.0, 69.0, 60.0, 67.0, 111.0, 83.0, 55.0, 72.0, 93.0, 79.0, 88.0, 82.0, 48.0, 95.0, 74.0, 93.0, 60.0, 72.0, 60.0, 73.0, 77.0, 64.0, 85.0, 89.0, 88.0, 81.0, 91.0, 87.0, 74.0, 116.0, 78.0, 68.0, 43.0, 70.0, 82.0, 50.0, 71.0, 68.0, 93.0, 67.0, 81.0, 94.0, 62.0, 60.0, 73.0, 61.0, 63.0, 57.0, 71.0, 73.0, 68.0, 81.0, 78.0, 42.0, 76.0, 64.0, 59.0, 52.0, 97.0, 91.0, 57.0, 68.0, 76.0, 69.0, 81.0, 77.0, 26.0, 96.0, 78.0, 75.0, 84.0, 75.0, 63.0, 64.0, 60.0, 56.0, 76.0, 90.0, 65.0, 41.0, 58.0, 29.0, 56.0, 64.0, 68.0, 65.0, 86.0, 96.0, 92.0, 67.0, 82.0, 48.0, 82.0, 87.0, 89.0, 71.0, 26.0, 51.0, 58.0, 99.0, 62.0, 63.0, 78.0, 86.0, 88.0, 59.0, 86.0, 101.0, 82.0, 77.0, 71.0, 54.0, 94.0, 84.0, 81.0, 65.0, 49.0, 69.0, 60.0, 58.0, 92.0, 91.0, 65.0, 64.0, 78.0, 70.0, 73.0, 78.0, 45.0, 75.0, 76.0, 62.0, 113.0, 59.0, 77.0, 74.0, 71.0, 71.0, 74.0, 73.0, 82.0, 68.0, 77.0, 86.0, 71.0, 43.0, 96.0, 74.0, 91.0, 63.0, 56.0, 75.0, 94.0, 45.0, 69.0, 73.0, 81.0, 42.0, 75.0, 101.0, 74.0, 73.0, 67.0, 59.0, 74.0, 69.0, 54.0, 78.0, 57.0, 71.0, 61.0, 74.0, 50.0, 102.0, 97.0, 60.0, 34.0, 65.0, 126.0, 55.0, 75.0, 66.0, 78.0, 51.0, 89.0, 71.0, 92.0, 62.0, 69.0, 35.0, 77.0, 86.0, 52.0, 87.0, 70.0, 73.0, 50.0, 67.0, 71.0, 48.0, 75.0, 62.0, 97.0, 43.0, 89.0, 80.0, 92.0, 72.0, 42.0, 81.0, 56.0, 67.0, 84.0, 47.0, 62.0, 110.0, 61.0, 42.0, 47.0, 98.0, 84.0, 50.0, 66.0, 64.0, 86.0, 66.0, 58.0, 67.0, 74.0, 69.0, 79.0, 71.0, 77.0, 70.0, 88.0, 61.0, 57.0, 54.0, 79.0, 112.0, 56.0, 73.0, 58.0, 95.0, 56.0, 85.0, 90.0, 69.0, 101.0, 87.0, 61.0, 85.0, 80.0, 114.0, 71.0, 71.0, 133.0, 56.0, 73.0, 70.0, 41.0, 65.0, 92.0, 79.0, 82.0, 65.0, 50.0, 82.0, 66.0, 71.0, 81.0, 76.0, 50.0]\n",
      "True\n"
     ]
    }
   ],
   "source": [
    "G2=nx.read_weighted_edgelist(f\"random_1000.edgelist\", nodetype=int)\n",
    "A = my_Dijkstra2(G2, 0)\n",
    "B = my_Dijkstra(G2, 0)\n",
    "\n",
    "print(A)\n",
    "print(B)\n",
    "\n",
    "jug = [A[s] == B[s] for s in range(len(A))]\n",
    "print(all(jug))"
   ]
  },
  {
   "cell_type": "code",
   "execution_count": 4,
   "metadata": {},
   "outputs": [
    {
     "name": "stdout",
     "output_type": "stream",
     "text": [
      "6.050831083976459\n"
     ]
    }
   ],
   "source": [
    "\n",
    "A = [0.014824919999227859,\n",
    "0.06469907000137028,\n",
    "0.13206165000010514,\n",
    "0.19700385000032838,\n",
    "0.31166948000027334,\n",
    "0.40812212000018916,\n",
    "0.498682999999437,\n",
    "0.703863110000384,\n",
    "0.8651322299992898,\n",
    "1.132434400000784]\n",
    "B= [0.09888969000021461,\n",
    "0.34169526000005135,\n",
    "0.6648314800000662,\n",
    "1.2086770799996884,\n",
    "1.6931298999999853,\n",
    "2.418900329999815,\n",
    "3.257119039999816,\n",
    "4.479050629999984,\n",
    "5.745057749999978,\n",
    "7.351723720000154]\n",
    "\n",
    "print(sum([B[s]/A[s] for s in range(10)])/10)"
   ]
  },
  {
   "cell_type": "code",
   "execution_count": 5,
   "metadata": {},
   "outputs": [],
   "source": [
    "import matplotlib.pyplot as plt"
   ]
  },
  {
   "cell_type": "code",
   "execution_count": 6,
   "metadata": {},
   "outputs": [
    {
     "data": {
      "image/png": "[encoded data removed]",
      "text/plain": [
       "<Figure size 640x480 with 1 Axes>"
      ]
     },
     "metadata": {},
     "output_type": "display_data"
    }
   ],
   "source": [
    "x = [s*1000 for s in range(1, 11)]\n",
    "plt.plot(x, A, )\n",
    "plt.plot(x, B)\n",
    "plt.show()"
   ]
  },
  {
   "cell_type": "code",
   "execution_count": null,
   "metadata": {},
   "outputs": [],
   "source": []
  }
 ],
 "metadata": {
  "kernelspec": {
   "display_name": "venv",
   "language": "python",
   "name": "python3"
  },
  "language_info": {
   "codemirror_mode": {
    "name": "ipython",
    "version": 3
   },
   "file_extension": ".py",
   "mimetype": "text/x-python",
   "name": "python",
   "nbconvert_exporter": "python",
   "pygments_lexer": "ipython3",
   "version": "3.11.9"
  }
 },
 "nbformat": 4,
 "nbformat_minor": 2
}
