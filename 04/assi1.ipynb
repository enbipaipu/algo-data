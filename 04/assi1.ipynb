{
 "cells": [
  {
   "cell_type": "markdown",
   "metadata": {},
   "source": [
    "### 問１"
   ]
  },
  {
   "cell_type": "code",
   "execution_count": 1,
   "metadata": {},
   "outputs": [],
   "source": [
    "#使用するライブラリのインポート\n",
    "import networkx as nx\n",
    "import random"
   ]
  },
  {
   "cell_type": "code",
   "execution_count": 3,
   "metadata": {},
   "outputs": [],
   "source": [
    "# nに1000から10000までの値を1000刻みで代入\n",
    "for n in range(1000, 10001, 1000):\n",
    "    #ランダムなグラフを作成。\n",
    "    G = nx.fast_gnp_random_graph(n, 0.01)\n",
    "\n",
    "    #それぞれの辺にランダムな重みを割り当てる。\n",
    "    for u, v in G.edges():\n",
    "        G.edges[u,v][\"weight\"] = random.randint(1, 100)\n",
    "\n",
    "    #ファイルにグラフのデータを書き込む\n",
    "    nx.write_weighted_edgelist(G, f\"random_{n}.edgelist\")\n"
   ]
  },
  {
   "cell_type": "markdown",
   "metadata": {},
   "source": [
    "### 問2"
   ]
  },
  {
   "cell_type": "code",
   "execution_count": 1,
   "metadata": {},
   "outputs": [],
   "source": [
    "import networkx as nx\n",
    "import timeit"
   ]
  },
  {
   "cell_type": "code",
   "execution_count": 2,
   "metadata": {},
   "outputs": [],
   "source": [
    "def my_extract_min(D, X):\n",
    "    arg_min = -1\n",
    "    min_value = float('inf')\n",
    "    \n",
    "    for i in range(len(D)):\n",
    "        if D[i] < min_value:\n",
    "            if i in X:\n",
    "                arg_min = i\n",
    "                min_value = D[i]\n",
    "    \n",
    "    return arg_min\n",
    "\n",
    "def my_Dijkstra(G, s):\n",
    "    X = set(G.nodes)\n",
    "    D = [float('inf')] * nx.number_of_nodes(G)\n",
    "    D[s] = 0\n",
    "    \n",
    "    while X:\n",
    "        u = my_extract_min(D, X)\n",
    "        X.remove(u)\n",
    "        for v in G.neighbors(u):\n",
    "            if v in X:\n",
    "                new_distance = D[u] + G.edges[u, v]['weight']\n",
    "                if D[v] > new_distance:\n",
    "                    D[v] = new_distance\n",
    "    return D"
   ]
  },
  {
   "cell_type": "code",
   "execution_count": 3,
   "metadata": {},
   "outputs": [
    {
     "name": "stdout",
     "output_type": "stream",
     "text": [
      "0.09888969000021461\n",
      "0.34169526000005135\n",
      "0.6648314800000662\n",
      "1.2086770799996884\n",
      "1.6931298999999853\n",
      "2.418900329999815\n",
      "3.257119039999816\n",
      "4.479050629999984\n",
      "5.745057749999978\n",
      "7.351723720000154\n"
     ]
    }
   ],
   "source": [
    "# nに1000から10000までの値を1000刻みで代入\n",
    "for n in range(1000, 10001, 1000):\n",
    "    #データの読み込み\n",
    "    G=nx.read_weighted_edgelist(f\"random_{n}.edgelist\", nodetype=int)\n",
    "\n",
    "    #実行時間を測定\n",
    "    num = 10 \n",
    "    total_time=timeit.timeit('my_Dijkstra(G,0)', globals=globals(), number=num)\n",
    "\n",
    "    average_time=total_time/num\n",
    "    print(average_time)"
   ]
  },
  {
   "cell_type": "code",
   "execution_count": null,
   "metadata": {},
   "outputs": [],
   "source": []
  }
 ],
 "metadata": {
  "kernelspec": {
   "display_name": "venv",
   "language": "python",
   "name": "python3"
  },
  "language_info": {
   "codemirror_mode": {
    "name": "ipython",
    "version": 3
   },
   "file_extension": ".py",
   "mimetype": "text/x-python",
   "name": "python",
   "nbconvert_exporter": "python",
   "pygments_lexer": "ipython3",
   "version": "3.11.9"
  }
 },
 "nbformat": 4,
 "nbformat_minor": 2
}
