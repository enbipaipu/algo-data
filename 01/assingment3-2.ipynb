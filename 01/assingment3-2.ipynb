{
 "cells": [
  {
   "cell_type": "code",
   "execution_count": 19,
   "metadata": {},
   "outputs": [],
   "source": [
    "import networkx as nx\n",
    "from collections import deque"
   ]
  },
  {
   "cell_type": "code",
   "execution_count": 20,
   "metadata": {},
   "outputs": [],
   "source": [
    "def my_dfs(G, s:int, traversed:set):\n",
    "\n",
    "    # 隣接点のスタックを作成\n",
    "    visited_nodes = deque()\n",
    "\n",
    "    # スタート地点のノードを追加\n",
    "    visited_nodes.appendleft(s)\n",
    "\n",
    "    # 訪れていないノードが0になるまで続ける\n",
    "    while len(visited_nodes) > 0:\n",
    "\n",
    "        # ノードを一つ取り出す\n",
    "        current_node = visited_nodes.popleft()\n",
    "\n",
    "        # ノードが訪問済みの場合は次のループへ\n",
    "        if current_node in traversed:\n",
    "            continue\n",
    "\n",
    "        # 現在のノードの隣接点を取得\n",
    "        adjacent_point = list(G.neighbors(current_node))\n",
    "\n",
    "        # 現在のノードを訪問済みにする\n",
    "        traversed.add(current_node)\n",
    "\n",
    "        # 隣接点の値が大きいほうから候補地としてスタックに保存する\n",
    "        [visited_nodes.appendleft(x) for x in reversed(adjacent_point)]\n",
    "\n",
    "        # 現在のノードを出力\n",
    "        print(current_node)"
   ]
  },
  {
   "cell_type": "code",
   "execution_count": 21,
   "metadata": {},
   "outputs": [],
   "source": [
    "# ファイルの読み込み\n",
    "G = nx.read_edgelist(\"test.edgelist.xlsx\", nodetype=int)"
   ]
  },
  {
   "cell_type": "code",
   "execution_count": 23,
   "metadata": {},
   "outputs": [
    {
     "name": "stdout",
     "output_type": "stream",
     "text": [
      "5\n",
      "2\n",
      "1\n",
      "0\n",
      "7\n",
      "6\n",
      "8\n",
      "3\n",
      "4\n"
     ]
    }
   ],
   "source": [
    "my_dfs(G, 5, set())"
   ]
  },
  {
   "cell_type": "code",
   "execution_count": null,
   "metadata": {},
   "outputs": [],
   "source": []
  }
 ],
 "metadata": {
  "kernelspec": {
   "display_name": "venv",
   "language": "python",
   "name": "python3"
  },
  "language_info": {
   "codemirror_mode": {
    "name": "ipython",
    "version": 3
   },
   "file_extension": ".py",
   "mimetype": "text/x-python",
   "name": "python",
   "nbconvert_exporter": "python",
   "pygments_lexer": "ipython3",
   "version": "3.11.9"
  }
 },
 "nbformat": 4,
 "nbformat_minor": 2
}
