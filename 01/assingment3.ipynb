{
 "cells": [
  {
   "cell_type": "code",
   "execution_count": 1,
   "metadata": {},
   "outputs": [],
   "source": [
    "# ライブラリのインポート\n",
    "import networkx as nx"
   ]
  },
  {
   "cell_type": "code",
   "execution_count": 2,
   "metadata": {},
   "outputs": [],
   "source": [
    "# 関数定義\n",
    "def my_dfs(G:nx.classes.graph.Graph, s:int, traversed:set):\n",
    "    # 初回時のみ出力\n",
    "    if len(traversed) == 0:\n",
    "        print(s)\n",
    "    \n",
    "    # 現在のノードをtraversedに追加し、訪問済みにする\n",
    "    traversed.add(s)\n",
    "\n",
    "    # 隣接点を取得し、listに変換\n",
    "    adjacentPoint = list(G.neighbors(s))\n",
    "\n",
    "    # 隣接点を1つずつ取り出す。\n",
    "    for t in adjacentPoint:\n",
    "\n",
    "        # tが訪問済みの場合はcontinue\n",
    "        if t in traversed:\n",
    "            continue\n",
    "\n",
    "        # tを出力\n",
    "        print(t)\n",
    "\n",
    "        # tの隣接点を探しに行く\n",
    "        my_dfs(G, t, traversed)\n",
    "\n",
    "    return traversed"
   ]
  },
  {
   "cell_type": "code",
   "execution_count": 3,
   "metadata": {},
   "outputs": [],
   "source": [
    "# ファイルの読み込み\n",
    "G = nx.read_edgelist(\"test.edgelist.xlsx\", nodetype=int)"
   ]
  },
  {
   "cell_type": "code",
   "execution_count": 5,
   "metadata": {},
   "outputs": [
    {
     "name": "stdout",
     "output_type": "stream",
     "text": [
      "5\n",
      "2\n",
      "1\n",
      "0\n",
      "7\n",
      "6\n",
      "8\n",
      "3\n",
      "4\n"
     ]
    },
    {
     "data": {
      "text/plain": [
       "{0, 1, 2, 3, 4, 5, 6, 7, 8}"
      ]
     },
     "execution_count": 5,
     "metadata": {},
     "output_type": "execute_result"
    }
   ],
   "source": [
    "# dfsの実行\n",
    "my_dfs(G, 5, set())"
   ]
  },
  {
   "cell_type": "code",
   "execution_count": null,
   "metadata": {},
   "outputs": [],
   "source": []
  }
 ],
 "metadata": {
  "kernelspec": {
   "display_name": "venv",
   "language": "python",
   "name": "python3"
  },
  "language_info": {
   "codemirror_mode": {
    "name": "ipython",
    "version": 3
   },
   "file_extension": ".py",
   "mimetype": "text/x-python",
   "name": "python",
   "nbconvert_exporter": "python",
   "pygments_lexer": "ipython3",
   "version": "3.11.9"
  }
 },
 "nbformat": 4,
 "nbformat_minor": 2
}
