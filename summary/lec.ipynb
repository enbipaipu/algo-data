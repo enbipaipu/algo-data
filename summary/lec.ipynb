{
 "cells": [
  {
   "cell_type": "code",
   "execution_count": 1,
   "metadata": {},
   "outputs": [],
   "source": [
    "import networkx as nx\n"
   ]
  },
  {
   "cell_type": "markdown",
   "metadata": {},
   "source": [
    "3,2,4,5,2,1,4,7,8,10,11,9,8,11,12,9,6,5,3"
   ]
  },
  {
   "cell_type": "code",
   "execution_count": 7,
   "metadata": {},
   "outputs": [],
   "source": [
    "def my_extract_min(D, X):\n",
    "    arg_min = -1\n",
    "    min_value = float('inf')\n",
    "    \n",
    "    for i in range(len(D)):\n",
    "        if D[i] < min_value:\n",
    "            if i in X:\n",
    "                arg_min = i\n",
    "                min_value = D[i]\n",
    "    \n",
    "    return arg_min\n",
    "\n",
    "def my_Dijkstra2(G, s):\n",
    "    X = set(G.nodes)\n",
    "    D = [float('inf')] * nx.number_of_nodes(G)\n",
    "    D[s] = 0\n",
    "    \n",
    "    while X:\n",
    "        u = my_extract_min(D, X)\n",
    "        X.remove(u)\n",
    "        for v in G.neighbors(u):\n",
    "            if v in X:\n",
    "                new_distance = D[u] + G.edges[u, v]['weight']\n",
    "                if D[v] > new_distance:\n",
    "                    D[v] = new_distance\n",
    "    return D\n",
    "\n",
    "def max_shortestlength(G:nx.classes.graph.Graph, s):\n",
    "    A = my_Dijkstra2(G, s)\n",
    "    MAX = max(A)\n",
    "\n",
    "    for s in range(nx.number_of_edges(G)):\n",
    "        if A[s] == MAX:\n",
    "            return s, MAX\n"
   ]
  },
  {
   "cell_type": "code",
   "execution_count": 8,
   "metadata": {},
   "outputs": [
    {
     "name": "stdout",
     "output_type": "stream",
     "text": [
      "<class 'networkx.classes.graph.Graph'>\n"
     ]
    }
   ],
   "source": [
    "G = nx.read_weighted_edgelist(\"../05/dij.edgelist\", nodetype=int)\n",
    "print(type(G))"
   ]
  },
  {
   "cell_type": "code",
   "execution_count": 9,
   "metadata": {},
   "outputs": [
    {
     "name": "stdout",
     "output_type": "stream",
     "text": [
      "4\n",
      "22.0\n"
     ]
    }
   ],
   "source": [
    "\n",
    "v, d = max_shortestlength(G, 0)\n",
    "print(v)\n",
    "print(d)"
   ]
  },
  {
   "cell_type": "code",
   "execution_count": null,
   "metadata": {},
   "outputs": [],
   "source": []
  },
  {
   "cell_type": "markdown",
   "metadata": {},
   "source": [
    "### 5"
   ]
  },
  {
   "cell_type": "code",
   "execution_count": 15,
   "metadata": {},
   "outputs": [],
   "source": [
    "def my_extract_min2(D, X):\n",
    "    arg_min = -1\n",
    "    min_value = float('inf')\n",
    "    \n",
    "    for i in X:\n",
    "        if D[i] < min_value:\n",
    "            arg_min = i\n",
    "            min_value = D[i]\n",
    "    \n",
    "    return arg_min\n",
    "\n",
    "def my_Prim(G, source):\n",
    "    X = set(G.nodes)\n",
    "    D = [float('inf')] * nx.number_of_nodes(G)\n",
    "    D[source] = 0\n",
    "    P = [-1] * nx.number_of_nodes(G)\n",
    "    A = []\n",
    "    while X:\n",
    "        u = my_extract_min2(D, X)\n",
    "        X.remove(u)\n",
    "        if u != source:\n",
    "            A.append((P[u], u))\n",
    "        for v in G.neighbors(u):\n",
    "            if v in X:\n",
    "                new_distance = G.edges[u, v]['weight']\n",
    "                if D[v] > new_distance:\n",
    "                    D[v] = new_distance\n",
    "                    P[v] = u\n",
    "\n",
    "    SUM = sum(D)\n",
    "    return A, SUM"
   ]
  },
  {
   "cell_type": "code",
   "execution_count": 16,
   "metadata": {},
   "outputs": [
    {
     "name": "stdout",
     "output_type": "stream",
     "text": [
      "[(0, 1), (1, 2), (2, 8), (2, 5), (5, 6), (6, 7), (2, 3), (3, 4)]\n",
      "37.0\n"
     ]
    }
   ],
   "source": [
    "A, w = my_Prim(G, 0)\n",
    "print(A)\n",
    "print(w)"
   ]
  },
  {
   "cell_type": "code",
   "execution_count": null,
   "metadata": {},
   "outputs": [],
   "source": []
  }
 ],
 "metadata": {
  "kernelspec": {
   "display_name": "venv",
   "language": "python",
   "name": "python3"
  },
  "language_info": {
   "codemirror_mode": {
    "name": "ipython",
    "version": 3
   },
   "file_extension": ".py",
   "mimetype": "text/x-python",
   "name": "python",
   "nbconvert_exporter": "python",
   "pygments_lexer": "ipython3",
   "version": "3.11.9"
  }
 },
 "nbformat": 4,
 "nbformat_minor": 2
}
