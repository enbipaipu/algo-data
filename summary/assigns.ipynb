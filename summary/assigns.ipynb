{
 "cells": [
  {
   "cell_type": "code",
   "execution_count": 5,
   "metadata": {},
   "outputs": [],
   "source": [
    "import networkx as nx\n",
    "from collections import deque\n",
    "import heapq\n",
    "import random"
   ]
  },
  {
   "cell_type": "markdown",
   "metadata": {},
   "source": [
    "### a01.py"
   ]
  },
  {
   "cell_type": "code",
   "execution_count": 2,
   "metadata": {},
   "outputs": [],
   "source": [
    "def my_dfs(G, s, traversed):\n",
    "    traversed.add(s)\n",
    "    print(s)\n",
    "    \n",
    "    for v in G.neighbors(s):\n",
    "        if v not in traversed:\n",
    "            my_dfs(G, v, traversed)\n",
    "\n",
    "\n",
    "def dfs_stack(G, s):\n",
    "    traversed = set()\n",
    "    q = deque()\n",
    "    q.appendleft(s)\n",
    "    \n",
    "    while q:\n",
    "        u = q.popleft()\n",
    "        if u not in traversed:\n",
    "            print(u)\n",
    "            traversed.add(u)\n",
    "            \n",
    "            for v in G.neighbors(u):\n",
    "                if not v in traversed:\n",
    "                    q.appendleft(v)"
   ]
  },
  {
   "cell_type": "markdown",
   "metadata": {},
   "source": [
    "### a02.py"
   ]
  },
  {
   "cell_type": "code",
   "execution_count": 3,
   "metadata": {},
   "outputs": [],
   "source": [
    "def my_euler_test(G):\n",
    "    for v in G.nodes():\n",
    "        d = G.degree[v]\n",
    "        if d % 2 == 1:\n",
    "            return False\n",
    "    return True"
   ]
  },
  {
   "cell_type": "markdown",
   "metadata": {},
   "source": [
    "### a03.py"
   ]
  },
  {
   "cell_type": "code",
   "execution_count": 4,
   "metadata": {},
   "outputs": [],
   "source": [
    "def my_extract_min(D, X):\n",
    "    arg_min = -1\n",
    "    min_value = float('inf')\n",
    "    \n",
    "    for i in range(len(D)):\n",
    "        if D[i] < min_value:\n",
    "            if i in X:\n",
    "                arg_min = i\n",
    "                min_value = D[i]\n",
    "    \n",
    "    return arg_min\n",
    "\n",
    "def my_Dijkstra(G, s):\n",
    "    X = set(G.nodes)\n",
    "    D = [float('inf')] * nx.number_of_nodes(G)\n",
    "    D[s] = 0\n",
    "    \n",
    "    while X:\n",
    "        u = my_extract_min(D, X)\n",
    "        X.remove(u)\n",
    "        for v in G.neighbors(u):\n",
    "            if v in X:\n",
    "                new_distance = D[u] + G.edges[u, v]['weight']\n",
    "                if D[v] > new_distance:\n",
    "                    D[v] = new_distance\n",
    "    return D"
   ]
  },
  {
   "cell_type": "markdown",
   "metadata": {},
   "source": [
    "### a04.py"
   ]
  },
  {
   "cell_type": "code",
   "execution_count": 7,
   "metadata": {},
   "outputs": [],
   "source": [
    "def my_heap_Dijkstra(G, s):\n",
    "    X = set(G.nodes)\n",
    "    D = [float('inf')] * nx.number_of_nodes(G) \n",
    "    D[s] = 0\n",
    "    Q = []\n",
    "    heapq.heappush(Q, (D[s], s))\n",
    "    while Q:\n",
    "        u_distance, u = heapq.heappop(Q)\n",
    "        if D[u] < u_distance:\n",
    "            continue\n",
    "        X.remove(u)\n",
    "        for v in G.neighbors(u):\n",
    "            if v in X:\n",
    "                new_distance = u_distance + G.edges[u, v]['weight']\n",
    "                if D[v] > new_distance:\n",
    "                    D[v] = new_distance\n",
    "                    heapq.heappush(Q, (new_distance, v))\n",
    "    return D\n",
    "\n",
    "\n",
    "\n",
    "# for i in range(1000, 11000, 1000):\n",
    "#     G = nx.fast_gnp_random_graph(i, 0.01)\n",
    "    \n",
    "#     for (u, v) in G.edges():\n",
    "#         G.edges[u,v]['weight'] = random.randint(1,100)\n",
    "    \n",
    "#     nx.write_weighted_edgelist(G, \"r_\" + str(i) + \".edgelist\")"
   ]
  },
  {
   "cell_type": "markdown",
   "metadata": {},
   "source": [
    "### a05.py"
   ]
  },
  {
   "cell_type": "code",
   "execution_count": 8,
   "metadata": {},
   "outputs": [],
   "source": [
    "def my_extract_min(D, X):\n",
    "    arg_min = -1\n",
    "    min_value = float('inf')\n",
    "    \n",
    "    for i in range(len(D)):\n",
    "        if D[i] < min_value:\n",
    "            if i in X:\n",
    "                arg_min = i\n",
    "                min_value = D[i]\n",
    "    \n",
    "    return arg_min\n",
    "\n",
    "def my_Prim(G, s):\n",
    "    X = set(G.nodes)\n",
    "    D = [float('inf')] * nx.number_of_nodes(G)\n",
    "    D[s] = 0\n",
    "    P = [-1] * nx.number_of_nodes(G)\n",
    "    A = []\n",
    "    while X:\n",
    "        u = my_extract_min(D, X)\n",
    "        X.remove(u)\n",
    "        if u != s:\n",
    "            A.append((P[u], u))\n",
    "        for v in G.neighbors(u):\n",
    "            if v in X:\n",
    "                new_distance = G.edges[u, v]['weight']\n",
    "                if D[v] > new_distance:\n",
    "                    D[v] = new_distance\n",
    "                    P[v] = u\n",
    "    return A"
   ]
  }
 ],
 "metadata": {
  "kernelspec": {
   "display_name": "venv",
   "language": "python",
   "name": "python3"
  },
  "language_info": {
   "codemirror_mode": {
    "name": "ipython",
    "version": 3
   },
   "file_extension": ".py",
   "mimetype": "text/x-python",
   "name": "python",
   "nbconvert_exporter": "python",
   "pygments_lexer": "ipython3",
   "version": "3.11.9"
  }
 },
 "nbformat": 4,
 "nbformat_minor": 2
}
