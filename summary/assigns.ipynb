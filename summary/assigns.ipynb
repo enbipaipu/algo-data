{
 "cells": [
  {
   "cell_type": "code",
   "execution_count": 78,
   "metadata": {},
   "outputs": [],
   "source": [
    "import networkx as nx\n",
    "from collections import deque\n",
    "import heapq\n",
    "import random"
   ]
  },
  {
   "cell_type": "markdown",
   "metadata": {},
   "source": [
    "### a01.py"
   ]
  },
  {
   "cell_type": "code",
   "execution_count": 79,
   "metadata": {},
   "outputs": [],
   "source": [
    "#深さ優先探索\n",
    "def my_dfs(G, s, traversed):\n",
    "    traversed.add(s)\n",
    "    print(s)\n",
    "    \n",
    "    for v in G.neighbors(s):\n",
    "        if v not in traversed:\n",
    "            my_dfs(G, v, traversed)\n",
    "\n",
    "\n",
    "def dfs_stack(G, s):\n",
    "    traversed = set()\n",
    "    q = deque()\n",
    "    q.appendleft(s)\n",
    "    \n",
    "    while q:\n",
    "        u = q.popleft()\n",
    "        if u not in traversed:\n",
    "            print(u)\n",
    "            traversed.add(u)\n",
    "            \n",
    "            for v in G.neighbors(u):\n",
    "                if not v in traversed:\n",
    "                    q.appendleft(v)"
   ]
  },
  {
   "cell_type": "markdown",
   "metadata": {},
   "source": [
    "### a02.py"
   ]
  },
  {
   "cell_type": "code",
   "execution_count": 80,
   "metadata": {},
   "outputs": [],
   "source": [
    "# オイラー閉路\n",
    "def my_euler_test(G:nx.classes.graph.Graph):\n",
    "    for v in G.nodes():\n",
    "        d = G.degree[v]\n",
    "        if d % 2 == 1:\n",
    "            return False\n",
    "    return True"
   ]
  },
  {
   "cell_type": "markdown",
   "metadata": {},
   "source": [
    "### a03.py"
   ]
  },
  {
   "cell_type": "code",
   "execution_count": 81,
   "metadata": {},
   "outputs": [],
   "source": [
    "# Xの中に含まれる最小の点を返す\n",
    "def my_extract_min(D, X):\n",
    "    arg_min = -1\n",
    "    min_value = float('inf')\n",
    "    \n",
    "    for i in range(len(D)):\n",
    "        if D[i] < min_value:\n",
    "            if i in X:\n",
    "                arg_min = i\n",
    "                min_value = D[i]\n",
    "    \n",
    "    return arg_min\n",
    "\n",
    "# ダイクストラ\n",
    "def my_Dijkstra(G:nx.classes.graph.Graph, s):\n",
    "    X = set(G.nodes)\n",
    "    D = [float('inf')] * nx.number_of_nodes(G)\n",
    "    D[s] = 0\n",
    "    \n",
    "    while X:\n",
    "        u = my_extract_min(D, X)\n",
    "        X.remove(u)\n",
    "        for v in G.neighbors(u):\n",
    "            if v in X:\n",
    "                new_distance = D[u] + G.edges[u, v]['weight']\n",
    "                if D[v] > new_distance:\n",
    "                    D[v] = new_distance\n",
    "    return D"
   ]
  },
  {
   "cell_type": "markdown",
   "metadata": {},
   "source": [
    "### a04.py"
   ]
  },
  {
   "cell_type": "code",
   "execution_count": 82,
   "metadata": {},
   "outputs": [],
   "source": [
    "# 二分ヒープのダイクストラ\n",
    "def my_heap_Dijkstra(G, s):\n",
    "    X = set(G.nodes)\n",
    "    D = [float('inf')] * nx.number_of_nodes(G) \n",
    "    D[s] = 0\n",
    "    Q = []\n",
    "    heapq.heappush(Q, (D[s], s))\n",
    "    while Q:\n",
    "        u_distance, u = heapq.heappop(Q)\n",
    "        if D[u] < u_distance:\n",
    "            continue\n",
    "        X.remove(u)\n",
    "        for v in G.neighbors(u):\n",
    "            if v in X:\n",
    "                new_distance = u_distance + G.edges[u, v]['weight']\n",
    "                if D[v] > new_distance:\n",
    "                    D[v] = new_distance\n",
    "                    heapq.heappush(Q, (new_distance, v))\n",
    "    return D\n",
    "\n",
    "\n",
    "\n",
    "# for i in range(1000, 11000, 1000):\n",
    "#     G = nx.fast_gnp_random_graph(i, 0.01)\n",
    "    \n",
    "#     for (u, v) in G.edges():\n",
    "#         G.edges[u,v]['weight'] = random.randint(1,100)\n",
    "    \n",
    "#     nx.write_weighted_edgelist(G, \"r_\" + str(i) + \".edgelist\")"
   ]
  },
  {
   "cell_type": "markdown",
   "metadata": {},
   "source": [
    "### a05.py"
   ]
  },
  {
   "cell_type": "code",
   "execution_count": 83,
   "metadata": {},
   "outputs": [],
   "source": [
    "\n",
    "def my_extract_min(D, X):\n",
    "    arg_min = -1\n",
    "    min_value = float('inf')\n",
    "    \n",
    "    for i in range(len(D)):\n",
    "        if D[i] < min_value:\n",
    "            if i in X:\n",
    "                arg_min = i\n",
    "                min_value = D[i]\n",
    "    \n",
    "    return arg_min\n",
    "# プリム法\n",
    "def my_Prim(G, s):\n",
    "    X = set(G.nodes)\n",
    "    D = [float('inf')] * nx.number_of_nodes(G)\n",
    "    D[s] = 0\n",
    "    P = [-1] * nx.number_of_nodes(G)\n",
    "    A = []\n",
    "    while X:\n",
    "        u = my_extract_min(D, X)\n",
    "        X.remove(u)\n",
    "        if u != s:\n",
    "            A.append((P[u], u))\n",
    "        for v in G.neighbors(u):\n",
    "            if v in X:\n",
    "                new_distance = G.edges[u, v]['weight']\n",
    "                if D[v] > new_distance:\n",
    "                    D[v] = new_distance\n",
    "                    P[v] = u\n",
    "    return A"
   ]
  },
  {
   "cell_type": "code",
   "execution_count": 84,
   "metadata": {},
   "outputs": [],
   "source": [
    "# ベルマンフォード法\n",
    "def my_Bellman_Ford(G:nx.classes.digraph.DiGraph, s: int):\n",
    "    \n",
    "    n = nx.number_of_nodes(G)\n",
    "    D = [float('inf')]*n\n",
    "    D[s] = 0\n",
    "    \n",
    "    for s in range(1, n):\n",
    "        D_new = D[:]\n",
    "        \n",
    "        for u, v in G.edges():\n",
    "            new_distance = D[u] + G.edges[u, v]['weight']\n",
    "            \n",
    "            if D_new[v] > new_distance:\n",
    "                D_new[v] = new_distance\n",
    "\n",
    "        D = D_new\n",
    "    \n",
    "    for u, v in G.edges():\n",
    "        new_distance = D[u] + G.edges[u, v]['weight']\n",
    "\n",
    "        if D[v]> new_distance:\n",
    "            return (False, D)\n",
    "        \n",
    "    return (True, D)"
   ]
  },
  {
   "cell_type": "markdown",
   "metadata": {},
   "source": [
    "### 問2"
   ]
  },
  {
   "cell_type": "code",
   "execution_count": 85,
   "metadata": {},
   "outputs": [],
   "source": [
    "def most_common_neighbors(G, v):\n",
    "    result = -1\n",
    "    current_max = 0\n",
    "    v_neighbors = set(G.neighbors(v))\n",
    "    for w in sorted(G.nodes()):\n",
    "        if w != v:\n",
    "            w_neighbors = set(G.neighbors(w))\n",
    "            num_common = len(v_neighbors&w_neighbors)\n",
    "            if num_common > current_max:\n",
    "                current_max= num_common\n",
    "                result = w\n",
    "    return result"
   ]
  },
  {
   "cell_type": "code",
   "execution_count": 86,
   "metadata": {},
   "outputs": [
    {
     "name": "stdout",
     "output_type": "stream",
     "text": [
      "3\n",
      "2\n"
     ]
    }
   ],
   "source": [
    "G = nx.read_edgelist('odd_even.edgelist',  nodetype=int)\n",
    "\n",
    "print(most_common_neighbors(G, 5))\n",
    "print(most_common_neighbors(G, 6))"
   ]
  },
  {
   "cell_type": "markdown",
   "metadata": {},
   "source": [
    "### 問３"
   ]
  },
  {
   "cell_type": "code",
   "execution_count": 94,
   "metadata": {},
   "outputs": [],
   "source": [
    "def my_extract_min(D, X):\n",
    "    arg_min = -1\n",
    "    min_value = float('inf')\n",
    "    for i in range(len(D)):\n",
    "        if D[i] < min_value:\n",
    "            if i in X:\n",
    "                arg_min = i\n",
    "                min_value = D[i]\n",
    "    return arg_min\n",
    "\n",
    "def my_Dijkstra(G, s):\n",
    "    X = set(G.nodes)\n",
    "    D = [float('inf')] * nx.number_of_nodes(G)\n",
    "    D[s] = 0\n",
    "    while X:\n",
    "        u = my_extract_min(D, X)\n",
    "        X.remove(u)\n",
    "        for v in G.neighbors(u):\n",
    "            if v in X:\n",
    "                new_distance = D[u] + G.edges[u, v]['weight']\n",
    "                if D[v] > new_distance:\n",
    "                    D[v] = new_distance\n",
    "    return D\n",
    "\n",
    "def all_shortestpath(G):\n",
    "    DD = []\n",
    "\n",
    "    for v in sorted(G.nodes()):\n",
    "        D = my_Dijkstra(G, v)\n",
    "        DD.append(D)\n",
    "    return DD"
   ]
  },
  {
   "cell_type": "code",
   "execution_count": 95,
   "metadata": {},
   "outputs": [
    {
     "name": "stdout",
     "output_type": "stream",
     "text": [
      "True\n",
      "True\n",
      "True\n"
     ]
    }
   ],
   "source": [
    "G = nx.read_weighted_edgelist('dij.edgelist', nodetype=int)\n",
    "DD = all_shortestpath(G)\n",
    "A = [[0, 4.0, 12.0, 19.0, 22.0, 12.0, 10.0, 9.0, 14.0], [4.0, 0, 8.0, 15.0, 22.0, 12.0, 12.0, 11.0, 10.0], [12.0, 8.0, 0, 7.0, 14.0, 4.0, 6.0, 7.0, 2.0], [19.0, 15.0, 7.0, 0, 9.0, 11.0, 13.0, 14.0, 9.0], [22.0, 22.0, 14.0, 9.0, 0, 10.0, 12.0, 13.0, 16.0], [12.0, 12.0, 4.0, 11.0, 10.0, 0, 2.0, 3.0, 6.0], [10.0, 12.0, 6.0, 13.0, 12.0, 2.0, 0, 1.0, 6.0], [9.0, 11.0, 7.0, 14.0, 13.0, 3.0, 1.0, 0, 7.0], [14.0, 10.0, 2.0, 9.0, 16.0, 6.0, 6.0, 7.0, 0]]\n",
    "print(DD == A)\n",
    "print(DD[0] == A[0])\n",
    "print(DD[1] == A[1])"
   ]
  },
  {
   "cell_type": "markdown",
   "metadata": {},
   "source": [
    "### 問5"
   ]
  },
  {
   "cell_type": "code",
   "execution_count": null,
   "metadata": {},
   "outputs": [],
   "source": [
    "def my_extract_min(D, X):\n",
    "    arg_min = -1\n",
    "    min_value = float('inf')\n",
    "    for i in range(len(D)):\n",
    "        if D[i] < min_value:\n",
    "            if i in X:\n",
    "                arg_min = i\n",
    "                min_value = D[i]\n",
    "    return arg_min\n",
    "\n",
    "\n",
    "def my_Prim(G, s):\n",
    "    X = set(G.nodes)\n",
    "    D = [float('inf')] * nx.number_of_nodes(G)\n",
    "    D[s] = 0\n",
    "    P = [-1] * nx.number_of_nodes(G)\n",
    "    A = []\n",
    "    while X:\n",
    "        u = my_extract_min(D, X)\n",
    "        X.remove(u)\n",
    "        if u != s:\n",
    "            A.append((P[u], u))\n",
    "        for v in G.neighbors(u):\n",
    "            if v in X:\n",
    "                new_distance = G.edges[u, v]['weight']\n",
    "                if D[v] > new_distance:\n",
    "                    D[v] = new_distance\n",
    "                    P[v] = u\n",
    "    return A\n",
    "\n",
    "def edge_in_MST(G, u, v, w):\n",
    "    A = set(my_Prim(G, w))    \n",
    "    C = set()\n",
    "    C.add((v, u))\n",
    "    \n",
    "    if {(u, v), (v, u)}&A:\n",
    "        return True\n",
    "    return False"
   ]
  },
  {
   "cell_type": "code",
   "execution_count": null,
   "metadata": {},
   "outputs": [
    {
     "name": "stdout",
     "output_type": "stream",
     "text": [
      "True\n",
      "False\n"
     ]
    }
   ],
   "source": [
    "G = nx.read_weighted_edgelist('dij.edgelist', nodetype=int)\n",
    "print(edge_in_MST(G, 2, 1, 0))\n",
    "\n",
    "print(edge_in_MST(G, 0, 7, 0))"
   ]
  },
  {
   "cell_type": "code",
   "execution_count": null,
   "metadata": {},
   "outputs": [],
   "source": []
  }
 ],
 "metadata": {
  "kernelspec": {
   "display_name": "venv",
   "language": "python",
   "name": "python3"
  },
  "language_info": {
   "codemirror_mode": {
    "name": "ipython",
    "version": 3
   },
   "file_extension": ".py",
   "mimetype": "text/x-python",
   "name": "python",
   "nbconvert_exporter": "python",
   "pygments_lexer": "ipython3",
   "version": "3.11.9"
  }
 },
 "nbformat": 4,
 "nbformat_minor": 2
}
