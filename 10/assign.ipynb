{
 "cells": [
  {
   "cell_type": "code",
   "execution_count": 1,
   "metadata": {},
   "outputs": [],
   "source": [
    "import networkx as nx\n",
    "from collections import deque"
   ]
  },
  {
   "cell_type": "code",
   "execution_count": 2,
   "metadata": {},
   "outputs": [],
   "source": [
    "G = nx.read_weighted_edgelist(\"ff2.edgelist\", create_using=nx.DiGraph(), nodetype=int)"
   ]
  },
  {
   "cell_type": "markdown",
   "metadata": {},
   "source": [
    "### (1)"
   ]
  },
  {
   "cell_type": "code",
   "execution_count": 3,
   "metadata": {},
   "outputs": [],
   "source": [
    "def find_augmentpath(N, s, t):\n",
    "\n",
    "    # πの初期化\n",
    "    Pi = [-1] * nx.number_of_nodes(N)\n",
    "\n",
    "    # 訪れた点を格納するvisitedの初期化\n",
    "    visited = set()\n",
    "\n",
    "    # stackの初期化\n",
    "    stack = deque()\n",
    "\n",
    "    # スタックに最初に訪れるsを入れる\n",
    "    stack.appendleft(s)\n",
    "\n",
    "    # stackの中身が存在する間処理を行う。\n",
    "    while stack:\n",
    "\n",
    "        # 次に訪問する点をstackの先頭から取り出す\n",
    "        v = stack.popleft()\n",
    "\n",
    "        # 次の点がtのとき\n",
    "        if v == t:\n",
    "\n",
    "            # πとtrueのタプルを返す\n",
    "            return (Pi, True)\n",
    "\n",
    "        # vが未訪問のとき\n",
    "        if v not in visited:\n",
    "\n",
    "            # vを訪問済みにする\n",
    "            visited.add(v)\n",
    "\n",
    "            # vの隣接点を一つずつ取り出してwに代入\n",
    "            for w in N.neighbors(v):\n",
    "\n",
    "                # wが未訪問で辺v,wの重さが0でないとき\n",
    "                if w not in visited and N.edges[v, w]['weight'] != 0:\n",
    "\n",
    "                    # stackにwを入れる\n",
    "                    stack.appendleft(w)\n",
    "\n",
    "                    # wはvから訪れたことを記録\n",
    "                    Pi[w] = v\n",
    "\n",
    "    # tまでたどり着けなかったら、πとfalseを返す\n",
    "    return (Pi, False)"
   ]
  },
  {
   "cell_type": "code",
   "execution_count": 4,
   "metadata": {},
   "outputs": [
    {
     "name": "stdout",
     "output_type": "stream",
     "text": [
      "([-1, 2, 0, 4, 2, 4], True)\n"
     ]
    }
   ],
   "source": [
    "print(find_augmentpath(G, 0, 5))"
   ]
  },
  {
   "cell_type": "markdown",
   "metadata": {},
   "source": [
    "### (2)Ford-Fulkerson"
   ]
  },
  {
   "cell_type": "code",
   "execution_count": 5,
   "metadata": {},
   "outputs": [],
   "source": [
    "def restore_shortestpath(u, v, Pi):\n",
    "    path = []\n",
    "    temp = v\n",
    "    while temp != u:\n",
    "        parent = Pi[temp]\n",
    "        path.append((parent, temp))\n",
    "        temp = parent\n",
    "    path.reverse()\n",
    "    return path"
   ]
  },
  {
   "cell_type": "code",
   "execution_count": 6,
   "metadata": {},
   "outputs": [],
   "source": [
    "def min_capacity(N, path):\n",
    "    min_cap = float(\"inf\")\n",
    "    for u, v in path:\n",
    "        capacity = N.edges[u, v][\"weight\"]\n",
    "        if capacity < min_cap:\n",
    "            min_cap = capacity\n",
    "    return min_cap"
   ]
  },
  {
   "cell_type": "code",
   "execution_count": 7,
   "metadata": {},
   "outputs": [],
   "source": [
    "def increase_flow(G, N, path, amount, flow):\n",
    "    for u, v in path:\n",
    "        if G.has_edge(u, v):\n",
    "            flow[(u, v)] += amount\n",
    "        else:\n",
    "            flow[(v, u)] -= amount\n",
    "\n",
    "        N.edges[u, v][\"weight\"] -= amount\n",
    "        \n",
    "        if not N.has_edge(v, u):\n",
    "            N.add_edge(v, u, weight = 0)\n",
    "\n",
    "        N.edges[v, u][\"weight\"] += amount"
   ]
  },
  {
   "cell_type": "code",
   "execution_count": 8,
   "metadata": {},
   "outputs": [],
   "source": [
    "def my_Ford_Fulkerson(G:nx.classes.DiGraph, s:int, t:int):\n",
    "    N = G.copy()\n",
    "    f= {}\n",
    "\n",
    "    for u , v in N.edges:\n",
    "        f[(u, v)] = 0\n",
    "    Pi, is_found = find_augmentpath(N, s, t)\n",
    "\n",
    "    while is_found:\n",
    "\n",
    "        augmentpath = restore_shortestpath(s, t, Pi)\n",
    "        min_cap = min_capacity(N, augmentpath)\n",
    "        \n",
    "        increase_flow(G, N, augmentpath, min_cap, f)\n",
    "        Pi, is_found = find_augmentpath(N, s, t)\n",
    "\n",
    "\n",
    "    return N, f"
   ]
  },
  {
   "cell_type": "code",
   "execution_count": 12,
   "metadata": {},
   "outputs": [
    {
     "name": "stdout",
     "output_type": "stream",
     "text": [
      "[[(0, 1), 0.0], [(0, 2), 0.0], [(1, 3), 0.0], [(1, 2), 2.0], [(1, 0), 10.0], [(2, 1), 2.0], [(2, 4), 3.0], [(2, 0), 13.0], [(3, 2), 9.0], [(3, 5), 1.0], [(3, 4), 7.0], [(3, 1), 12.0], [(4, 3), 0.0], [(4, 5), 0.0], [(4, 2), 11.0], [(5, 4), 4.0], [(5, 3), 19.0]]\n",
      "{(0, 1): 10.0, (0, 2): 13.0, (1, 3): 12.0, (2, 1): 2.0, (2, 4): 11.0, (3, 2): 0, (3, 5): 19.0, (4, 3): 7.0, (4, 5): 4.0}\n"
     ]
    }
   ],
   "source": [
    "N, f = my_Ford_Fulkerson(G, 0, 5)\n",
    "print( [[(s, t) ,N.edges[s, t][\"weight\"]] for s, t in N.edges()])\n",
    "print(f)"
   ]
  },
  {
   "cell_type": "code",
   "execution_count": null,
   "metadata": {},
   "outputs": [],
   "source": [
    "def increase_flow(G, N, path, amount, flow):\n",
    "    # pathからu,vを取り出す\n",
    "    for u, v in path:\n",
    "        # Gに辺u,vが存在するなら\n",
    "        if G.has_edge(u, v):\n",
    "            # u,vのフローを増やす\n",
    "            flow[(u, v)] += amount\n",
    "        else:\n",
    "            # v,uのフローを減らす\n",
    "            flow[(v, u)] -= amount\n",
    "\n",
    "        # Nの辺u,vの重みを減らす\n",
    "        N.edges[u, v][\"weight\"] -= amount\n",
    "        \n",
    "        # Nに辺v,uがないとき重み0で辺v,uを作成\n",
    "        if not N.has_edge(v, u):\n",
    "            N.add_edge(v, u, weight = 0)\n",
    "\n",
    "        # Nの辺v,uの重みを増やす\n",
    "        N.edges[v, u][\"weight\"] += amount"
   ]
  },
  {
   "cell_type": "code",
   "execution_count": null,
   "metadata": {},
   "outputs": [],
   "source": [
    "def my_Ford_Fulkerson(G:nx.classes.DiGraph, s:int, t:int):\n",
    "    # GのコピーNを作る\n",
    "    N = G.copy()\n",
    "    # フローを空集合で作る\n",
    "    f= {}\n",
    "    # Nの辺u,vすべてを0で初期化\n",
    "    for u , v in N.edges:\n",
    "        f[(u, v)] = 0\n",
    "    # 道のりπと道が存在するかをそれぞれ、piとis_foundに代入\n",
    "    Pi, is_found = find_augmentpath(N, s, t)\n",
    "\n",
    "    # 道が存在する間処理を行う。\n",
    "    while is_found:\n",
    "        # sからtまでの道のりを取得\n",
    "        augmentpath = restore_shortestpath(s, t, Pi)\n",
    "        # sからtまでの道のりの中で最小の値を取得\n",
    "        min_cap = min_capacity(N, augmentpath)\n",
    "        # augmentpathの道のりの重みやフローを更新\n",
    "        increase_flow(G, N, augmentpath, min_cap, f)\n",
    "        # 道のりπと道が存在するかをそれぞれ、piとis_foundに代入\n",
    "        Pi, is_found = find_augmentpath(N, s, t)\n",
    "\n",
    "    # 最終的な残余ネットワークNと最大フローfを返す\n",
    "    return N, f"
   ]
  }
 ],
 "metadata": {
  "kernelspec": {
   "display_name": "ds2024",
   "language": "python",
   "name": "python3"
  },
  "language_info": {
   "codemirror_mode": {
    "name": "ipython",
    "version": 3
   },
   "file_extension": ".py",
   "mimetype": "text/x-python",
   "name": "python",
   "nbconvert_exporter": "python",
   "pygments_lexer": "ipython3",
   "version": "3.9.15"
  }
 },
 "nbformat": 4,
 "nbformat_minor": 2
}
