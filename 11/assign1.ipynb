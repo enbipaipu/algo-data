{
 "cells": [
  {
   "cell_type": "code",
   "execution_count": 6,
   "metadata": {},
   "outputs": [],
   "source": [
    "import networkx as nx\n",
    "from collections import deque"
   ]
  },
  {
   "cell_type": "code",
   "execution_count": 7,
   "metadata": {},
   "outputs": [],
   "source": [
    "def find_augmentpath(N, s, t):\n",
    "\n",
    "    # πの初期化\n",
    "    Pi = [-1] * nx.number_of_nodes(N)\n",
    "\n",
    "    # 訪れた点を格納するvisitedの初期化\n",
    "    visited = set()\n",
    "\n",
    "    # stackの初期化\n",
    "    stack = deque()\n",
    "\n",
    "    # スタックに最初に訪れるsを入れる\n",
    "    stack.appendleft(s)\n",
    "\n",
    "    # stackの中身が存在する間処理を行う。\n",
    "    while stack:\n",
    "\n",
    "        # 次に訪問する点をstackの先頭から取り出す\n",
    "        v = stack.popleft()\n",
    "\n",
    "        # 次の点がtのとき\n",
    "        if v == t:\n",
    "\n",
    "            # πとtrueのタプルを返す\n",
    "            return (Pi, True)\n",
    "\n",
    "        # vが未訪問のとき\n",
    "        if v not in visited:\n",
    "\n",
    "            # vを訪問済みにする\n",
    "            visited.add(v)\n",
    "\n",
    "            # vの隣接点を一つずつ取り出してwに代入\n",
    "            for w in N.neighbors(v):\n",
    "\n",
    "                # wが未訪問で辺v,wの重さが0でないとき\n",
    "                if w not in visited and N.edges[v, w]['weight'] != 0:\n",
    "\n",
    "                    # stackにwを入れる\n",
    "                    stack.appendleft(w)\n",
    "\n",
    "                    # wはvから訪れたことを記録\n",
    "                    Pi[w] = v\n",
    "\n",
    "    # tまでたどり着けなかったら、πとfalseを返す\n",
    "    return (Pi, False)\n",
    "def restore_shortestpath(u, v, Pi):\n",
    "    path = []\n",
    "    temp = v\n",
    "    while temp != u:\n",
    "        parent = Pi[temp]\n",
    "        path.append((parent, temp))\n",
    "        temp = parent\n",
    "    path.reverse()\n",
    "    return path\n",
    "def min_capacity(N, path):\n",
    "    min_cap = float(\"inf\")\n",
    "    for u, v in path:\n",
    "        capacity = N.edges[u, v][\"weight\"]\n",
    "        if capacity < min_cap:\n",
    "            min_cap = capacity\n",
    "    return min_cap\n",
    "\n",
    "def increase_flow(G, N, path, amount, flow):\n",
    "    for u, v in path:\n",
    "        if G.has_edge(u, v):\n",
    "            flow[(u, v)] += amount\n",
    "        else:\n",
    "            flow[(v, u)] -= amount\n",
    "\n",
    "        N.edges[u, v][\"weight\"] -= amount\n",
    "        \n",
    "        if not N.has_edge(v, u):\n",
    "            N.add_edge(v, u, weight = 0)\n",
    "\n",
    "        N.edges[v, u][\"weight\"] += amount\n"
   ]
  },
  {
   "cell_type": "code",
   "execution_count": 8,
   "metadata": {},
   "outputs": [],
   "source": [
    "\n",
    "def my_Ford_Fulkerson(G:nx.classes.DiGraph, s:int, t:int):\n",
    "    N = G.copy()\n",
    "    f= {}\n",
    "\n",
    "    for u , v in N.edges:\n",
    "        f[(u, v)] = 0\n",
    "    Pi, is_found = find_augmentpath(N, s, t)\n",
    "\n",
    "    while is_found:\n",
    "\n",
    "        augmentpath = restore_shortestpath(s, t, Pi)\n",
    "        min_cap = min_capacity(N, augmentpath)\n",
    "        \n",
    "        increase_flow(G, N, augmentpath, min_cap, f)\n",
    "        Pi, is_found = find_augmentpath(N, s, t)\n",
    "\n",
    "\n",
    "    return N, f"
   ]
  },
  {
   "cell_type": "code",
   "execution_count": 9,
   "metadata": {},
   "outputs": [],
   "source": [
    "G = nx.read_weighted_edgelist(\"lec.edgelist\", create_using=nx.DiGraph(), nodetype=int)"
   ]
  },
  {
   "cell_type": "code",
   "execution_count": 10,
   "metadata": {},
   "outputs": [
    {
     "name": "stdout",
     "output_type": "stream",
     "text": [
      "[[(0, 6), 1.0], [(0, 7), 0.0], [(0, 10), 1.0], [(6, 11), 0.0], [(6, 2), 1.0], [(7, 11), 0.0], [(7, 0), 1.0], [(1, 5), 1.0], [(1, 7), 1.0], [(1, 9), 0.0], [(1, 10), 1.0], [(5, 11), 0.0], [(5, 3), 1.0], [(9, 11), 0.0], [(9, 3), 0.0], [(9, 1), 1.0], [(2, 6), 0.0], [(2, 8), 1.0], [(2, 10), 1.0], [(8, 11), 0.0], [(8, 4), 1.0], [(3, 5), 0.0], [(3, 9), 1.0], [(3, 10), 1.0], [(4, 8), 0.0], [(4, 10), 1.0], [(10, 0), 0.0], [(10, 1), 0.0], [(10, 2), 0.0], [(10, 3), 0.0], [(10, 4), 0.0], [(11, 8), 1.0], [(11, 9), 1.0], [(11, 6), 1.0], [(11, 5), 1.0], [(11, 7), 1.0]]\n",
      "{(0, 6): 0, (0, 7): 1.0, (6, 11): 1.0, (7, 11): 1.0, (1, 5): 0, (1, 7): 0, (1, 9): 1.0, (5, 11): 1.0, (9, 11): 1.0, (2, 6): 1.0, (2, 8): 0, (8, 11): 1.0, (3, 5): 1.0, (3, 9): 0.0, (4, 8): 1.0, (10, 0): 1.0, (10, 1): 1.0, (10, 2): 1.0, (10, 3): 1.0, (10, 4): 1.0}\n",
      "20\n"
     ]
    }
   ],
   "source": [
    "N, f = my_Ford_Fulkerson(G, 10, 11)\n",
    "\n",
    "print( [[(s, t) ,N.edges[s, t][\"weight\"]] for s, t in N.edges()])\n",
    "print(f)\n",
    "print(len(f))"
   ]
  },
  {
   "cell_type": "code",
   "execution_count": 11,
   "metadata": {},
   "outputs": [
    {
     "name": "stdout",
     "output_type": "stream",
     "text": [
      "{(0, 6): 0, (0, 7): 1.0, (1, 5): 0, (1, 7): 0, (1, 9): 1.0, (2, 6): 1.0, (2, 8): 0, (3, 5): 1.0, (3, 9): 0.0, (4, 8): 1.0}\n",
      "10\n"
     ]
    }
   ],
   "source": [
    "for s in range(0, 5):\n",
    "    f.pop((10, s))\n",
    "for s in range(5, 10):\n",
    "    f.pop((s, 11))\n",
    "print(f)\n",
    "print(len(f))"
   ]
  },
  {
   "cell_type": "markdown",
   "metadata": {},
   "source": [
    "### 11-2 (1)"
   ]
  },
  {
   "cell_type": "code",
   "execution_count": 12,
   "metadata": {},
   "outputs": [],
   "source": [
    "G2 = nx.read_weighted_edgelist(\"project.edgelist\", create_using=nx.DiGraph(), nodetype=int)"
   ]
  },
  {
   "cell_type": "code",
   "execution_count": 13,
   "metadata": {},
   "outputs": [
    {
     "data": {
      "image/png": "[encoded data removed]",
      "text/plain": [
       "<Figure size 640x480 with 1 Axes>"
      ]
     },
     "metadata": {},
     "output_type": "display_data"
    }
   ],
   "source": [
    "nx.draw_networkx(G2, node_size=700)"
   ]
  },
  {
   "cell_type": "markdown",
   "metadata": {},
   "source": [
    "### 11-2 (2)"
   ]
  },
  {
   "cell_type": "code",
   "execution_count": 19,
   "metadata": {},
   "outputs": [],
   "source": [
    "def mincut_dfs(N:nx.classes.DiGraph, s):\n",
    "    visited = set()\n",
    "    stack = deque()\n",
    "    stack.appendleft(s)\n",
    "\n",
    "    while stack:\n",
    "        v = stack.popleft()\n",
    "        if not v in visited:\n",
    "            visited.add(v)\n",
    "            for w in N.neighbors(v):\n",
    "                if not w in visited and N.edges[v, w]['weight'] != 0:\n",
    "                    stack.appendleft(w)\n",
    "    N_set = set(N.nodes())\n",
    "    return visited, (N_set - visited)"
   ]
  },
  {
   "cell_type": "code",
   "execution_count": 27,
   "metadata": {},
   "outputs": [],
   "source": [
    "G3 = nx.read_weighted_edgelist(\"ff2.edgelist\", create_using=nx.DiGraph(), nodetype=int)\n",
    "G2 = nx.read_weighted_edgelist(\"project.edgelist\", create_using=nx.DiGraph(), nodetype=int)"
   ]
  },
  {
   "cell_type": "code",
   "execution_count": 29,
   "metadata": {},
   "outputs": [
    {
     "name": "stdout",
     "output_type": "stream",
     "text": [
      "A:  {0, 2, 4, 5, 9, 10, 11, 12}\n",
      "B:  {1, 3, 6, 7, 8, 13}\n"
     ]
    }
   ],
   "source": [
    "N, f = my_Ford_Fulkerson(G2, 0, 13)\n",
    "A, B = mincut_dfs(N, 0)\n",
    "print(\"A: \", A)\n",
    "print(\"B: \", B)\n"
   ]
  },
  {
   "cell_type": "code",
   "execution_count": null,
   "metadata": {},
   "outputs": [],
   "source": []
  }
 ],
 "metadata": {
  "kernelspec": {
   "display_name": "ds2024",
   "language": "python",
   "name": "python3"
  },
  "language_info": {
   "codemirror_mode": {
    "name": "ipython",
    "version": 3
   },
   "file_extension": ".py",
   "mimetype": "text/x-python",
   "name": "python",
   "nbconvert_exporter": "python",
   "pygments_lexer": "ipython3",
   "version": "3.9.15"
  }
 },
 "nbformat": 4,
 "nbformat_minor": 2
}
