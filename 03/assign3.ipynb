{
 "cells": [
  {
   "cell_type": "code",
   "execution_count": 1,
   "metadata": {},
   "outputs": [],
   "source": [
    "# ライブラリのインポート\n",
    "import networkx as nx"
   ]
  },
  {
   "cell_type": "code",
   "execution_count": 2,
   "metadata": {},
   "outputs": [],
   "source": [
    "# graphデータの読み込み\n",
    "G=nx.read_weighted_edgelist(\"dij.edgelist\", nodetype=int)"
   ]
  },
  {
   "cell_type": "code",
   "execution_count": 3,
   "metadata": {},
   "outputs": [],
   "source": [
    "# 関数定義\n",
    "def dijkstra(G:nx.classes.graph.Graph, s:int):\n",
    "\n",
    "    # 集合XをGの点集合で初期化\n",
    "    X = set(G.nodes)\n",
    "\n",
    "    # 辞書Dを Gの各点の最短経路長を無限にして 初期化\n",
    "    D = {x: float(\"inf\") for x in range(nx.number_of_nodes(G))}\n",
    "\n",
    "    # 始点の最短経路長を0に。\n",
    "    D[s] = 0\n",
    "    \n",
    "    # Xが空でない間、以下を繰り返す。\n",
    "    while len(X) > 0:\n",
    "        \n",
    "        # Xの中でDが最小となる点をnode,その最短経路長をweightに代入\n",
    "        node, weight = min({x: y for x, y in D.items() if x in X}.items(), key=lambda x: x[1])\n",
    "        \n",
    "        # Xの中でDが最小となる点をXから除く。\n",
    "        X.discard(node)\n",
    "\n",
    "        # nodeの隣接点を順番に取り出す。\n",
    "        for next_point in G.neighbors(node):\n",
    "\n",
    "            # 隣接点の値が nodeの値+edgeの重み より大きいならば、\n",
    "            if D[next_point] > ( weight + G.edges[node, next_point][\"weight\"] ):\n",
    "\n",
    "                # 隣接点の値を nodeの値+edgeの重みに変更\n",
    "                D[next_point] = int(weight + G.edges[node, next_point][\"weight\"])\n",
    "    \n",
    "    # 最終的な最短経路長を順に取り出して\n",
    "    for l, m in D.items():\n",
    "\n",
    "        # 始点 -> 各点 => 最短経路長 の形で出力\n",
    "        print(s, \" -> \", l, \"への最短経路長は \", m)\n"
   ]
  },
  {
   "cell_type": "code",
   "execution_count": 4,
   "metadata": {},
   "outputs": [
    {
     "name": "stdout",
     "output_type": "stream",
     "text": [
      "0  ->  0 への最短経路長は  0\n",
      "0  ->  1 への最短経路長は  4\n",
      "0  ->  2 への最短経路長は  12\n",
      "0  ->  3 への最短経路長は  19\n",
      "0  ->  4 への最短経路長は  22\n",
      "0  ->  5 への最短経路長は  12\n",
      "0  ->  6 への最短経路長は  10\n",
      "0  ->  7 への最短経路長は  9\n",
      "0  ->  8 への最短経路長は  14\n"
     ]
    }
   ],
   "source": [
    "dijkstra(G, 0)"
   ]
  },
  {
   "cell_type": "code",
   "execution_count": null,
   "metadata": {},
   "outputs": [],
   "source": []
  }
 ],
 "metadata": {
  "kernelspec": {
   "display_name": "venv",
   "language": "python",
   "name": "python3"
  },
  "language_info": {
   "codemirror_mode": {
    "name": "ipython",
    "version": 3
   },
   "file_extension": ".py",
   "mimetype": "text/x-python",
   "name": "python",
   "nbconvert_exporter": "python",
   "pygments_lexer": "ipython3",
   "version": "3.11.9"
  }
 },
 "nbformat": 4,
 "nbformat_minor": 2
}
